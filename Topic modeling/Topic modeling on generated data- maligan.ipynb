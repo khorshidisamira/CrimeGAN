{
 "cells": [
  {
   "cell_type": "code",
   "execution_count": 1,
   "metadata": {},
   "outputs": [
    {
     "name": "stderr",
     "output_type": "stream",
     "text": [
      "unable to import 'smart_open.gcs', disabling that module\n"
     ]
    }
   ],
   "source": [
    "import re\n",
    "import numpy as np\n",
    "import pandas as pd\n",
    "from pprint import pprint\n",
    "\n",
    "# Gensim\n",
    "import gensim\n",
    "import gensim.corpora as corpora\n",
    "from gensim.utils import simple_preprocess\n",
    "from gensim.models import CoherenceModel\n",
    "\n",
    "# spacy for lemmatization\n",
    "import spacy\n",
    "\n",
    "# Plotting tools\n",
    "import pyLDAvis\n",
    "import pyLDAvis.gensim  # don't skip this\n",
    "import matplotlib.pyplot as plt\n",
    "%matplotlib inline\n",
    "\n",
    "# Enable logging for gensim - optional\n",
    "import logging\n",
    "logging.basicConfig(format='%(asctime)s : %(levelname)s : %(message)s', level=logging.ERROR)\n",
    "\n",
    "import warnings\n",
    "warnings.filterwarnings(\"ignore\",category=DeprecationWarning)"
   ]
  },
  {
   "cell_type": "code",
   "execution_count": 2,
   "metadata": {},
   "outputs": [],
   "source": [
    "# NLTK Stop words\n",
    "from nltk.corpus import stopwords\n",
    "stop_words = stopwords.words('english')\n",
    "#stop_words.extend(['from', 'subject', 're', 'edu', 'use'])"
   ]
  },
  {
   "cell_type": "code",
   "execution_count": 3,
   "metadata": {},
   "outputs": [],
   "source": [
    "# Import Dataset\n",
    "#df = pd.read_json('https://raw.githubusercontent.com/selva86/datasets/master/newsgroups.json')\n",
    "#print(df.target_names.unique())\n",
    "#df.head()\n",
    "\n",
    "df = pd.read_csv('./generated/maligan.csv', quoting = 3).dropna().reset_index(drop=True)"
   ]
  },
  {
   "cell_type": "code",
   "execution_count": 4,
   "metadata": {},
   "outputs": [
    {
     "data": {
      "text/plain": [
       "Index(['NARRATIVE'], dtype='object')"
      ]
     },
     "execution_count": 4,
     "metadata": {},
     "output_type": "execute_result"
    }
   ],
   "source": [
    "df.columns"
   ]
  },
  {
   "cell_type": "code",
   "execution_count": 5,
   "metadata": {},
   "outputs": [],
   "source": [
    "word_replace_dic = {\n",
    "        ' vic ':' victim ',\n",
    "        ' vict ':' victim ',\n",
    "        ' sus ': ' suspect ',\n",
    "        ' s1 ': ' suspect ',\n",
    "        ' v1 ': ' victim ',\n",
    "        ' loc ': ' location ',\n",
    "        ' veh ':' vehicle ',\n",
    "        ' prop ': ' property ',\n",
    "        ' unk ': ' unknown ',\n",
    "        ' v ' : ' victim ',\n",
    "        ' s ': ' suspect ',\n",
    "        ' ss ': ' suspect ',\n",
    "        ' susp ': ' suspect ',\n",
    "        ' remvd ': ' removed ',\n",
    "        ' victs ': ' victims ',\n",
    "        ' susps ': ' suspects ',\n",
    "        ' stillinside ': ' still inside ',\n",
    "        ' donttell ': ' dont tell ',\n",
    "        ' veerbal ': ' verbal ',\n",
    "        ' thransaction ': ' transaction ',\n",
    "        ' usedcredit ': ' used credit ',\n",
    "        ' beerbottle ' : ' beer bottle ',\n",
    "        ' neg ': ' negative ',\n",
    "        ' cointinuously ': ' continuously ',\n",
    "        ' lemmon ': ' lemon ',\n",
    "        ' att ': ' attack '\n",
    "            }\n",
    "df['content'] = \" \" + df['NARRATIVE'].str.lower()+ \" \"\n",
    "#df['content'] = df.cleaned.replace(word_replace_dic)#, regex=True)"
   ]
  },
  {
   "cell_type": "code",
   "execution_count": 6,
   "metadata": {},
   "outputs": [],
   "source": [
    "\n",
    "for key, value in word_replace_dic.items():\n",
    "    df['content'] = df['content'].str.replace(key, value, 10)\n"
   ]
  },
  {
   "cell_type": "code",
   "execution_count": 7,
   "metadata": {},
   "outputs": [
    {
     "data": {
      "text/plain": [
       "'elm speed kitty hunters '"
      ]
     },
     "execution_count": 7,
     "metadata": {},
     "output_type": "execute_result"
    }
   ],
   "source": [
    "df['NARRATIVE'][2673]"
   ]
  },
  {
   "cell_type": "code",
   "execution_count": 8,
   "metadata": {},
   "outputs": [
    {
     "data": {
      "text/plain": [
       "' elm speed kitty hunters  '"
      ]
     },
     "execution_count": 8,
     "metadata": {},
     "output_type": "execute_result"
    }
   ],
   "source": [
    "df['content'][2673]"
   ]
  },
  {
   "cell_type": "code",
   "execution_count": 9,
   "metadata": {},
   "outputs": [],
   "source": [
    "\n",
    "for key, value in word_replace_dic.items():\n",
    "    df['content'] = df['content'].str.replace(key, value, 10)"
   ]
  },
  {
   "cell_type": "code",
   "execution_count": 10,
   "metadata": {},
   "outputs": [
    {
     "data": {
      "text/plain": [
       "Series([], Name: content, dtype: object)"
      ]
     },
     "execution_count": 10,
     "metadata": {},
     "output_type": "execute_result"
    }
   ],
   "source": [
    "df[df['content'].str.contains(\" vict \")]['content']\n",
    "#df.columns #= ['DR', 'CRIMETYPE', 'BEGDATE', 'content', 'X', 'Y', 'NARRATIVE_FLAG']"
   ]
  },
  {
   "cell_type": "code",
   "execution_count": 11,
   "metadata": {},
   "outputs": [
    {
     "name": "stdout",
     "output_type": "stream",
     "text": [
      "[' elm gas tank cell charger from suspect suspect neglected of conclusion for items ']\n"
     ]
    }
   ],
   "source": [
    "# Convert to list\n",
    "data = df.content.values.tolist()\n",
    "\n",
    "# Remove Emails\n",
    "data = [re.sub('\\S*@\\S*\\s?', '', sent) for sent in data]\n",
    "\n",
    "# Remove new line characters\n",
    "data = [re.sub('\\s+', ' ', sent) for sent in data]\n",
    "\n",
    "# Remove distracting single quotes\n",
    "data = [re.sub(\"\\'\", \"\", sent) for sent in data]\n",
    "\n",
    "print(data[:1])"
   ]
  },
  {
   "cell_type": "markdown",
   "metadata": {},
   "source": [
    "### Tokenize words and Clean-up text"
   ]
  },
  {
   "cell_type": "code",
   "execution_count": 12,
   "metadata": {},
   "outputs": [
    {
     "name": "stdout",
     "output_type": "stream",
     "text": [
      "[['elm', 'gas', 'tank', 'cell', 'charger', 'from', 'suspect', 'suspect', 'neglected', 'of', 'conclusion', 'for', 'items']]\n"
     ]
    }
   ],
   "source": [
    "\n",
    "#I have set deacc=True to remove the punctuations.\n",
    "\n",
    "def sent_to_words(sentences):\n",
    "    for sentence in sentences:\n",
    "        yield(gensim.utils.simple_preprocess(str(sentence), deacc=True))  # deacc=True removes punctuations\n",
    "\n",
    "data_words = list(sent_to_words(data))\n",
    "\n",
    "print(data_words[:1])"
   ]
  },
  {
   "cell_type": "code",
   "execution_count": 13,
   "metadata": {},
   "outputs": [
    {
     "name": "stdout",
     "output_type": "stream",
     "text": [
      "['elm', 'gas_tank', 'cell', 'charger', 'from', 'suspect', 'suspect', 'neglected', 'of', 'conclusion', 'for', 'items']\n"
     ]
    }
   ],
   "source": [
    "# Build the bigram and trigram models\n",
    "bigram = gensim.models.Phrases(data_words, min_count=5, threshold=100) # higher threshold fewer phrases.\n",
    "trigram = gensim.models.Phrases(bigram[data_words], threshold=100)  \n",
    "\n",
    "# Faster way to get a sentence clubbed as a trigram/bigram\n",
    "bigram_mod = gensim.models.phrases.Phraser(bigram)\n",
    "trigram_mod = gensim.models.phrases.Phraser(trigram)\n",
    "\n",
    "# See trigram example\n",
    "print(trigram_mod[bigram_mod[data_words[0]]])"
   ]
  },
  {
   "cell_type": "code",
   "execution_count": 14,
   "metadata": {},
   "outputs": [],
   "source": [
    "# Define functions for stopwords, bigrams, trigrams and lemmatization\n",
    "def remove_stopwords(texts):\n",
    "    return [[word for word in simple_preprocess(str(doc)) if word not in stop_words] for doc in texts]\n",
    "\n",
    "def make_bigrams(texts):\n",
    "    return [bigram_mod[doc] for doc in texts]\n",
    "\n",
    "def make_trigrams(texts):\n",
    "    return [trigram_mod[bigram_mod[doc]] for doc in texts]\n",
    "\n",
    "def lemmatization(texts, allowed_postags=['NOUN', 'ADJ', 'VERB', 'ADV']):\n",
    "    \"\"\"https://spacy.io/api/annotation\"\"\"\n",
    "    texts_out = []\n",
    "    for sent in texts:\n",
    "        doc = nlp(\" \".join(sent)) \n",
    "        texts_out.append([token.lemma_ for token in doc if token.pos_ in allowed_postags])\n",
    "    return texts_out"
   ]
  },
  {
   "cell_type": "code",
   "execution_count": 15,
   "metadata": {},
   "outputs": [
    {
     "name": "stdout",
     "output_type": "stream",
     "text": [
      "[['cell', 'charger', 'suspect', 'suspect', 'neglect', 'conclusion', 'item']]\n"
     ]
    }
   ],
   "source": [
    "# Remove Stop Words\n",
    "data_words_nostops = remove_stopwords(data_words)\n",
    "\n",
    "# Form Bigrams\n",
    "data_words_bigrams = make_bigrams(data_words_nostops)\n",
    "\n",
    "# Initialize spacy 'en' model, keeping only tagger component (for efficiency)\n",
    "# python3 -m spacy download en\n",
    "nlp = spacy.load('en', disable=['parser', 'ner'])\n",
    "\n",
    "# Do lemmatization keeping only noun, adj, vb, adv\n",
    "data_lemmatized = lemmatization(data_words_bigrams, allowed_postags=['NOUN', 'ADJ', 'VERB', 'ADV'])\n",
    "\n",
    "print(data_lemmatized[:1])"
   ]
  },
  {
   "cell_type": "markdown",
   "metadata": {},
   "source": [
    "### Create the Dictionary and Corpus needed for Topic Modeling"
   ]
  },
  {
   "cell_type": "code",
   "execution_count": 16,
   "metadata": {},
   "outputs": [
    {
     "name": "stdout",
     "output_type": "stream",
     "text": [
      "[[(0, 1), (1, 1), (2, 1), (3, 1), (4, 1), (5, 2)]]\n"
     ]
    }
   ],
   "source": [
    "#The two main inputs to the LDA topic model are the dictionary(id2word) and the corpus. Let’s create them.\n",
    "\n",
    "# Create Dictionary\n",
    "id2word = corpora.Dictionary(data_lemmatized)\n",
    "\n",
    "# Create Corpus\n",
    "texts = data_lemmatized\n",
    "\n",
    "# Term Document Frequency\n",
    "corpus = [id2word.doc2bow(text) for text in texts]\n",
    "\n",
    "# View\n",
    "print(corpus[:1])"
   ]
  },
  {
   "cell_type": "code",
   "execution_count": 17,
   "metadata": {},
   "outputs": [
    {
     "data": {
      "text/plain": [
       "'cell'"
      ]
     },
     "execution_count": 17,
     "metadata": {},
     "output_type": "execute_result"
    }
   ],
   "source": [
    "id2word[0]"
   ]
  },
  {
   "cell_type": "code",
   "execution_count": 18,
   "metadata": {},
   "outputs": [
    {
     "data": {
      "text/plain": [
       "[[('cell', 1),\n",
       "  ('charger', 1),\n",
       "  ('conclusion', 1),\n",
       "  ('item', 1),\n",
       "  ('neglect', 1),\n",
       "  ('suspect', 2)]]"
      ]
     },
     "execution_count": 18,
     "metadata": {},
     "output_type": "execute_result"
    }
   ],
   "source": [
    "# Human readable format of corpus (term-frequency)\n",
    "[[(id2word[id], freq) for id, freq in cp] for cp in corpus[:1]]"
   ]
  },
  {
   "cell_type": "code",
   "execution_count": 19,
   "metadata": {},
   "outputs": [],
   "source": [
    "# Build LDA model\n",
    "lda_model = gensim.models.ldamodel.LdaModel(corpus=corpus,\n",
    "                                           id2word=id2word,\n",
    "                                           num_topics=12, \n",
    "                                           random_state=100,\n",
    "                                           update_every=1,\n",
    "                                           chunksize=100,\n",
    "                                           passes=10,\n",
    "                                           alpha='auto',\n",
    "                                           per_word_topics=True)"
   ]
  },
  {
   "cell_type": "code",
   "execution_count": 20,
   "metadata": {},
   "outputs": [
    {
     "name": "stdout",
     "output_type": "stream",
     "text": [
      "[(0,\n",
      "  '0.112*\"anzac\" + 0.074*\"area\" + 0.053*\"register\" + 0.053*\"smash\" + '\n",
      "  '0.036*\"yell\" + 0.032*\"building\" + 0.032*\"run\" + 0.029*\"miss\" + '\n",
      "  '0.028*\"service\" + 0.025*\"damage\"'),\n",
      " (1,\n",
      "  '0.292*\"victim\" + 0.275*\"suspect\" + 0.031*\"leave\" + 0.020*\"state\" + '\n",
      "  '0.017*\"punch\" + 0.016*\"approach\" + 0.014*\"hit\" + 0.012*\"car\" + '\n",
      "  '0.012*\"return\" + 0.011*\"time\"'),\n",
      " (2,\n",
      "  '0.141*\"location\" + 0.138*\"vehicle\" + 0.112*\"open\" + 0.074*\"front\" + '\n",
      "  '0.062*\"rear\" + 0.033*\"cut\" + 0.025*\"acct\" + 0.019*\"come\" + 0.018*\"pick\" + '\n",
      "  '0.018*\"unlock\"'),\n",
      " (3,\n",
      "  '0.063*\"room\" + 0.053*\"phone\" + 0.043*\"purchase\" + 0.043*\"attempt\" + '\n",
      "  '0.034*\"several\" + 0.032*\"push\" + 0.032*\"grab\" + 0.029*\"lock\" + 0.023*\"ball\" '\n",
      "  '+ 0.022*\"multiple\"'),\n",
      " (4,\n",
      "  '0.174*\"soccer\" + 0.099*\"check\" + 0.074*\"wit\" + 0.058*\"person\" + '\n",
      "  '0.035*\"discover\" + 0.029*\"closet\" + 0.025*\"rent\" + 0.017*\"tv\" + '\n",
      "  '0.016*\"proceeding\" + 0.016*\"night\"'),\n",
      " (5,\n",
      "  '0.112*\"flee\" + 0.097*\"property\" + 0.093*\"elm\" + 0.077*\"door\" + '\n",
      "  '0.070*\"unknown\" + 0.069*\"remove\" + 0.043*\"enter\" + 0.038*\"window\" + '\n",
      "  '0.028*\"item\" + 0.021*\"garage\"'),\n",
      " (6,\n",
      "  '0.094*\"fight\" + 0.083*\"fist\" + 0.065*\"altercation\" + 0.060*\"wall\" + '\n",
      "  '0.055*\"campus\" + 0.022*\"produce\" + 0.022*\"intentionally\" + 0.021*\"engage\" + '\n",
      "  '0.018*\"trespass\" + 0.018*\"today\"'),\n",
      " (7,\n",
      "  '0.152*\"side\" + 0.148*\"driver\" + 0.091*\"pass\" + 0.089*\"direction\" + '\n",
      "  '0.017*\"middle\" + 0.012*\"wo\" + 0.011*\"porch\" + 0.010*\"roommate\" + '\n",
      "  '0.008*\"rmv\" + 0.006*\"sentere\"'),\n",
      " (8,\n",
      "  '0.073*\"place\" + 0.063*\"dir\" + 0.050*\"confront\" + 0.048*\"bedroom\" + '\n",
      "  '0.042*\"bottle\" + 0.041*\"housing\" + 0.034*\"bldg\" + 0.032*\"merchandise\" + '\n",
      "  '0.031*\"entry\" + 0.029*\"steal\"'),\n",
      " (9,\n",
      "  '0.148*\"take\" + 0.048*\"glass\" + 0.042*\"bag\" + 0.036*\"strike\" + 0.034*\"face\" '\n",
      "  '+ 0.026*\"gain\" + 0.025*\"street\" + 0.022*\"throw\" + 0.021*\"fire\" + '\n",
      "  '0.020*\"partner\"'),\n",
      " (10,\n",
      "  '0.056*\"order\" + 0.045*\"dispute\" + 0.045*\"pay\" + 0.041*\"call\" + '\n",
      "  '0.032*\"arrest\" + 0.029*\"attack\" + 0.028*\"stop\" + 0.026*\"conceal\" + '\n",
      "  '0.024*\"list\" + 0.024*\"observe\"'),\n",
      " (11,\n",
      "  '0.133*\"use\" + 0.085*\"school\" + 0.068*\"resid\" + 0.052*\"shot\" + '\n",
      "  '0.048*\"residence\" + 0.048*\"go\" + 0.037*\"home\" + 0.023*\"argue\" + '\n",
      "  '0.021*\"force\" + 0.019*\"rock\"')]\n"
     ]
    }
   ],
   "source": [
    "# Print the Keyword in the topics\n",
    "pprint(lda_model.print_topics())\n",
    "doc_lda = lda_model[corpus]"
   ]
  },
  {
   "cell_type": "code",
   "execution_count": 21,
   "metadata": {},
   "outputs": [
    {
     "name": "stdout",
     "output_type": "stream",
     "text": [
      "\n",
      "Perplexity:  -8.036059394187875\n",
      "\n",
      "Coherence Score:  0.39582160249426307\n"
     ]
    }
   ],
   "source": [
    "# Compute Perplexity\n",
    "print('\\nPerplexity: ', lda_model.log_perplexity(corpus))  # a measure of how good the model is. lower the better.\n",
    "\n",
    "# Compute Coherence Score\n",
    "coherence_model_lda = CoherenceModel(model=lda_model, texts=data_lemmatized, dictionary=id2word, coherence='c_v')\n",
    "coherence_lda = coherence_model_lda.get_coherence()\n",
    "print('\\nCoherence Score: ', coherence_lda)"
   ]
  },
  {
   "cell_type": "code",
   "execution_count": 22,
   "metadata": {},
   "outputs": [
    {
     "name": "stderr",
     "output_type": "stream",
     "text": [
      "C:\\Users\\Samira\\Anaconda3\\lib\\site-packages\\pyLDAvis\\_prepare.py:257: FutureWarning: Sorting because non-concatenation axis is not aligned. A future version\n",
      "of pandas will change to not sort by default.\n",
      "\n",
      "To accept the future behavior, pass 'sort=False'.\n",
      "\n",
      "To retain the current behavior and silence the warning, pass 'sort=True'.\n",
      "\n",
      "  return pd.concat([default_term_info] + list(topic_dfs))\n"
     ]
    },
    {
     "data": {
      "text/html": [
       "\n",
       "<link rel=\"stylesheet\" type=\"text/css\" href=\"https://cdn.rawgit.com/bmabey/pyLDAvis/files/ldavis.v1.0.0.css\">\n",
       "\n",
       "\n",
       "<div id=\"ldavis_el23622521650822328304914380\"></div>\n",
       "<script type=\"text/javascript\">\n",
       "\n",
       "var ldavis_el23622521650822328304914380_data = {\"mdsDat\": {\"x\": [0.3600282521324189, 0.31178831280246233, -0.0006378255399475028, -0.0018830356042394117, -0.012906677185219696, -0.031625656819379976, -0.08018709250388997, -0.08291669283452692, -0.09547970119785881, -0.10705141417137781, -0.1274503825756742, -0.13167808650276827], \"y\": [0.30532641452057424, -0.34189265610747166, 0.0007768610978586461, 0.0009733409946694511, 0.0016928569504741935, 0.0025582034050900724, 0.004620316726843048, 0.004692398483658948, 0.005032141215420816, 0.0052696579019240325, 0.005482235297883995, 0.005468229513074306], \"topics\": [1, 2, 3, 4, 5, 6, 7, 8, 9, 10, 11, 12], \"cluster\": [1, 1, 1, 1, 1, 1, 1, 1, 1, 1, 1, 1], \"Freq\": [35.29802322387695, 25.70724868774414, 6.69558572769165, 6.670199394226074, 6.440364360809326, 5.555148601531982, 3.43471097946167, 3.150754451751709, 2.706878900527954, 2.236018180847168, 1.2990367412567139, 0.8060283660888672]}, \"tinfo\": {\"Category\": [\"Default\", \"Default\", \"Default\", \"Default\", \"Default\", \"Default\", \"Default\", \"Default\", \"Default\", \"Default\", \"Default\", \"Default\", \"Default\", \"Default\", \"Default\", \"Default\", \"Default\", \"Default\", \"Default\", \"Default\", \"Default\", \"Default\", \"Default\", \"Default\", \"Default\", \"Default\", \"Default\", \"Default\", \"Default\", \"Default\", \"Topic1\", \"Topic1\", \"Topic1\", \"Topic1\", \"Topic1\", \"Topic1\", \"Topic1\", \"Topic1\", \"Topic1\", \"Topic1\", \"Topic1\", \"Topic1\", \"Topic1\", \"Topic1\", \"Topic1\", \"Topic1\", \"Topic1\", \"Topic1\", \"Topic1\", \"Topic1\", \"Topic1\", \"Topic1\", \"Topic1\", \"Topic1\", \"Topic1\", \"Topic1\", \"Topic1\", \"Topic1\", \"Topic1\", \"Topic1\", \"Topic1\", \"Topic1\", \"Topic2\", \"Topic2\", \"Topic2\", \"Topic2\", \"Topic2\", \"Topic2\", \"Topic2\", \"Topic2\", \"Topic2\", \"Topic2\", \"Topic2\", \"Topic2\", \"Topic2\", \"Topic2\", \"Topic2\", \"Topic2\", \"Topic2\", \"Topic2\", \"Topic2\", \"Topic2\", \"Topic2\", \"Topic2\", \"Topic2\", \"Topic2\", \"Topic2\", \"Topic2\", \"Topic2\", \"Topic2\", \"Topic2\", \"Topic2\", \"Topic2\", \"Topic2\", \"Topic3\", \"Topic3\", \"Topic3\", \"Topic3\", \"Topic3\", \"Topic3\", \"Topic3\", \"Topic3\", \"Topic3\", \"Topic3\", \"Topic3\", \"Topic3\", \"Topic3\", \"Topic3\", \"Topic3\", \"Topic3\", \"Topic3\", \"Topic3\", \"Topic3\", \"Topic3\", \"Topic3\", \"Topic3\", \"Topic3\", \"Topic3\", \"Topic3\", \"Topic3\", \"Topic3\", \"Topic3\", \"Topic3\", \"Topic3\", \"Topic4\", \"Topic4\", \"Topic4\", \"Topic4\", \"Topic4\", \"Topic4\", \"Topic4\", \"Topic4\", \"Topic4\", \"Topic4\", \"Topic4\", \"Topic4\", \"Topic4\", \"Topic4\", \"Topic4\", \"Topic4\", \"Topic4\", \"Topic4\", \"Topic4\", \"Topic4\", \"Topic4\", \"Topic4\", \"Topic4\", \"Topic4\", \"Topic4\", \"Topic4\", \"Topic4\", \"Topic4\", \"Topic4\", \"Topic4\", \"Topic5\", \"Topic5\", \"Topic5\", \"Topic5\", \"Topic5\", \"Topic5\", \"Topic5\", \"Topic5\", \"Topic5\", \"Topic5\", \"Topic5\", \"Topic5\", \"Topic5\", \"Topic5\", \"Topic5\", \"Topic5\", \"Topic5\", \"Topic5\", \"Topic5\", \"Topic5\", \"Topic5\", \"Topic5\", \"Topic5\", \"Topic5\", \"Topic5\", \"Topic5\", \"Topic5\", \"Topic5\", \"Topic5\", \"Topic5\", \"Topic6\", \"Topic6\", \"Topic6\", \"Topic6\", \"Topic6\", \"Topic6\", \"Topic6\", \"Topic6\", \"Topic6\", \"Topic6\", \"Topic6\", \"Topic6\", \"Topic6\", \"Topic6\", \"Topic6\", \"Topic6\", \"Topic6\", \"Topic6\", \"Topic6\", \"Topic6\", \"Topic6\", \"Topic6\", \"Topic6\", \"Topic6\", \"Topic6\", \"Topic6\", \"Topic6\", \"Topic6\", \"Topic6\", \"Topic6\", \"Topic7\", \"Topic7\", \"Topic7\", \"Topic7\", \"Topic7\", \"Topic7\", \"Topic7\", \"Topic7\", \"Topic7\", \"Topic7\", \"Topic7\", \"Topic7\", \"Topic7\", \"Topic7\", \"Topic7\", \"Topic7\", \"Topic7\", \"Topic7\", \"Topic7\", \"Topic7\", \"Topic7\", \"Topic7\", \"Topic7\", \"Topic7\", \"Topic7\", \"Topic7\", \"Topic7\", \"Topic7\", \"Topic7\", \"Topic7\", \"Topic8\", \"Topic8\", \"Topic8\", \"Topic8\", \"Topic8\", \"Topic8\", \"Topic8\", \"Topic8\", \"Topic8\", \"Topic8\", \"Topic8\", \"Topic8\", \"Topic8\", \"Topic8\", \"Topic8\", \"Topic8\", \"Topic8\", \"Topic8\", \"Topic8\", \"Topic8\", \"Topic8\", \"Topic8\", \"Topic8\", \"Topic8\", \"Topic8\", \"Topic8\", \"Topic8\", \"Topic8\", \"Topic8\", \"Topic8\", \"Topic9\", \"Topic9\", \"Topic9\", \"Topic9\", \"Topic9\", \"Topic9\", \"Topic9\", \"Topic9\", \"Topic9\", \"Topic9\", \"Topic9\", \"Topic9\", \"Topic9\", \"Topic9\", \"Topic9\", \"Topic9\", \"Topic9\", \"Topic9\", \"Topic9\", \"Topic9\", \"Topic9\", \"Topic9\", \"Topic9\", \"Topic9\", \"Topic9\", \"Topic9\", \"Topic9\", \"Topic9\", \"Topic9\", \"Topic9\", \"Topic10\", \"Topic10\", \"Topic10\", \"Topic10\", \"Topic10\", \"Topic10\", \"Topic10\", \"Topic10\", \"Topic10\", \"Topic10\", \"Topic10\", \"Topic10\", \"Topic10\", \"Topic10\", \"Topic10\", \"Topic10\", \"Topic10\", \"Topic10\", \"Topic10\", \"Topic10\", \"Topic10\", \"Topic10\", \"Topic10\", \"Topic10\", \"Topic10\", \"Topic10\", \"Topic10\", \"Topic10\", \"Topic10\", \"Topic10\", \"Topic11\", \"Topic11\", \"Topic11\", \"Topic11\", \"Topic11\", \"Topic11\", \"Topic11\", \"Topic11\", \"Topic11\", \"Topic11\", \"Topic11\", \"Topic11\", \"Topic11\", \"Topic11\", \"Topic11\", \"Topic11\", \"Topic11\", \"Topic11\", \"Topic11\", \"Topic11\", \"Topic11\", \"Topic11\", \"Topic11\", \"Topic11\", \"Topic11\", \"Topic11\", \"Topic11\", \"Topic11\", \"Topic11\", \"Topic11\", \"Topic11\", \"Topic11\", \"Topic11\", \"Topic11\", \"Topic11\", \"Topic11\", \"Topic11\", \"Topic11\", \"Topic12\", \"Topic12\", \"Topic12\", \"Topic12\", \"Topic12\", \"Topic12\", \"Topic12\", \"Topic12\", \"Topic12\", \"Topic12\", \"Topic12\", \"Topic12\", \"Topic12\", \"Topic12\", \"Topic12\", \"Topic12\", \"Topic12\", \"Topic12\", \"Topic12\", \"Topic12\", \"Topic12\", \"Topic12\", \"Topic12\", \"Topic12\", \"Topic12\", \"Topic12\", \"Topic12\", \"Topic12\", \"Topic12\", \"Topic12\", \"Topic12\", \"Topic12\", \"Topic12\", \"Topic12\", \"Topic12\", \"Topic12\"], \"Freq\": [10250.0, 9770.0, 2877.0, 2476.0, 2516.0, 988.0, 1966.0, 1797.0, 1757.0, 782.0, 761.0, 622.0, 388.0, 1109.0, 418.0, 383.0, 963.0, 412.0, 403.0, 1086.0, 372.0, 341.0, 712.0, 340.0, 266.0, 197.0, 320.0, 253.0, 192.0, 220.0, 10249.5185546875, 1085.304443359375, 718.7444458007812, 614.4398193359375, 551.7518310546875, 488.3566589355469, 422.56280517578125, 417.1366271972656, 396.79541015625, 329.4916076660156, 315.1363525390625, 303.31439208984375, 275.7005615234375, 270.5659484863281, 262.9402770996094, 262.6985778808594, 254.5345916748047, 238.44696044921875, 233.97488403320312, 225.0612030029297, 202.98797607421875, 185.50242614746094, 182.74037170410156, 178.9451904296875, 161.22610473632812, 148.50418090820312, 145.1016387939453, 135.90945434570312, 130.02886962890625, 127.25189208984375, 9656.810546875, 145.91668701171875, 2876.278076171875, 2475.4150390625, 1965.7677001953125, 1796.6558837890625, 1756.368896484375, 1108.91748046875, 962.824462890625, 711.2996215820312, 539.7823486328125, 493.7652282714844, 425.7507019042969, 407.41473388671875, 389.49053955078125, 255.55332946777344, 239.4367218017578, 238.5987091064453, 215.0327911376953, 200.3376007080078, 172.89207458496094, 142.48687744140625, 141.89854431152344, 139.44386291503906, 128.21237182617188, 125.2078857421875, 123.64009094238281, 118.18708801269531, 110.53024291992188, 108.51128387451172, 98.13723754882812, 89.69145202636719, 2369.69921875, 112.47362518310547, 987.2359619140625, 319.2768859863281, 281.901123046875, 241.05697631835938, 223.1797637939453, 174.00770568847656, 168.7698516845703, 149.47439575195312, 140.1876983642578, 134.36097717285156, 134.00848388671875, 103.23393249511719, 102.70513153076172, 102.49522399902344, 100.3873062133789, 99.50079345703125, 85.31890106201172, 83.20530700683594, 76.79243469238281, 73.02006530761719, 65.13565063476562, 60.51496124267578, 59.156166076660156, 58.11084747314453, 57.20275115966797, 51.66444778442383, 50.235496520996094, 50.08341598510742, 49.232872009277344, 47.97635269165039, 371.24261474609375, 298.6889343261719, 298.5791015625, 270.8670349121094, 212.18966674804688, 189.8621368408203, 187.1277313232422, 172.86965942382812, 162.17868041992188, 156.6045379638672, 148.50656127929688, 136.71969604492188, 133.5779266357422, 123.4610366821289, 117.91928100585938, 102.98477935791016, 91.0787582397461, 91.06626892089844, 87.79542541503906, 84.93191528320312, 80.36589050292969, 76.20154571533203, 73.4956283569336, 71.9908676147461, 71.68109130859375, 68.18089294433594, 67.1015396118164, 62.43700408935547, 62.266639709472656, 61.402076721191406, 403.0647888183594, 340.03253173828125, 277.5816955566406, 273.7609558105469, 220.1772918701172, 207.9201202392578, 205.97442626953125, 187.54701232910156, 148.1970672607422, 141.53182983398438, 120.71469116210938, 115.76052856445312, 113.06986236572266, 112.19290924072266, 97.3956069946289, 90.0690689086914, 89.65190887451172, 85.2715835571289, 78.81793212890625, 72.89838409423828, 68.12548065185547, 65.24544525146484, 61.54842758178711, 60.43687057495117, 60.1081428527832, 59.04854202270508, 58.422969818115234, 56.11001205444336, 55.16386795043945, 54.955265045166016, 781.440673828125, 760.900390625, 621.5409545898438, 411.5849304199219, 340.7219543457031, 184.0716094970703, 139.7727508544922, 104.09410095214844, 101.07666015625, 98.36141204833984, 63.0185432434082, 58.239349365234375, 57.55428695678711, 57.33552551269531, 45.335750579833984, 43.80436325073242, 42.993587493896484, 42.968929290771484, 40.75736999511719, 38.65363693237305, 38.26559829711914, 33.841915130615234, 31.122695922851562, 30.649028778076172, 29.613222122192383, 29.451717376708984, 27.55254364013672, 27.248432159423828, 25.658763885498047, 25.290454864501953, 382.6511535644531, 252.4150848388672, 182.60174560546875, 180.04339599609375, 122.45335388183594, 108.50133514404297, 107.83229064941406, 98.79328155517578, 94.21932983398438, 86.02548217773438, 83.85184478759766, 72.02812957763672, 67.44947814941406, 62.43098449707031, 52.94129943847656, 50.90291976928711, 49.02964401245117, 48.416038513183594, 43.09128189086914, 42.36112594604492, 42.05445861816406, 37.43953323364258, 31.88349723815918, 28.825654983520508, 27.3416805267334, 25.528749465942383, 25.282995223999023, 24.211210250854492, 24.112834930419922, 21.380584716796875, 417.244873046875, 265.69427490234375, 213.30621337890625, 163.5083770751953, 150.21421813964844, 149.4010009765625, 115.0849609375, 72.77140045166016, 66.11656951904297, 60.87532043457031, 58.28849411010742, 55.856544494628906, 54.08617401123047, 48.70000076293945, 47.46971130371094, 38.75095748901367, 37.40035629272461, 33.92382049560547, 30.701671600341797, 30.289024353027344, 30.10698890686035, 28.830547332763672, 27.896371841430664, 25.262060165405273, 24.008520126342773, 21.735271453857422, 20.83837127685547, 19.358718872070312, 15.162083625793457, 12.971051216125488, 197.72970581054688, 168.6904296875, 135.95401000976562, 129.89122009277344, 113.8994369506836, 110.69248962402344, 91.20580291748047, 85.98616790771484, 82.69483947753906, 79.36184692382812, 77.67457580566406, 64.76612091064453, 60.446754455566406, 47.825706481933594, 47.31448745727539, 46.83564758300781, 40.765785217285156, 40.033103942871094, 38.526763916015625, 36.40862274169922, 32.497886657714844, 32.398345947265625, 28.884672164916992, 25.01132583618164, 24.217565536499023, 23.798582077026367, 21.989974975585938, 19.62571907043457, 17.304712295532227, 16.874052047729492, 387.7110595703125, 219.66229248046875, 163.72364807128906, 129.09315490722656, 78.63571166992188, 65.20633697509766, 55.18621826171875, 38.55445861816406, 36.6329231262207, 35.515586853027344, 31.54981803894043, 29.432722091674805, 29.02959442138672, 26.147335052490234, 25.629549026489258, 21.92159652709961, 21.127561569213867, 20.852550506591797, 17.898149490356445, 17.742168426513672, 17.5960693359375, 15.842482566833496, 13.673431396484375, 9.115569114685059, 8.524890899658203, 8.260807991027832, 7.710847854614258, 6.440896511077881, 5.825153350830078, 5.603353977203369, 196.93695068359375, 191.74154663085938, 117.03327178955078, 114.44441986083984, 22.384885787963867, 15.061649322509766, 13.73222541809082, 12.762280464172363, 10.468857765197754, 7.750405788421631, 3.779006004333496, 2.6584880352020264, 1.2743972539901733, 0.7951805591583252, 0.07184603065252304, 0.06798389554023743, 0.06806830316781998, 0.0663825273513794, 0.06741607189178467, 0.06714193522930145, 0.06714193522930145, 0.06714193522930145, 0.06714193522930145, 0.06715211272239685, 0.06647835671901703, 0.0670841708779335, 0.06572700291872025, 0.06572700291872025, 0.06572700291872025, 0.06572700291872025, 0.06572700291872025, 0.06881874054670334, 0.06603960692882538, 0.06798896193504333, 0.06788985431194305, 0.06832383573055267, 0.0673404186964035, 0.06649000942707062, 74.991455078125, 66.16268920898438, 51.87469482421875, 48.39582061767578, 44.34613037109375, 17.45027732849121, 17.25582504272461, 17.219406127929688, 14.440704345703125, 14.409811019897461, 6.178981781005859, 4.03292179107666, 3.611027717590332, 2.661728620529175, 2.147533416748047, 0.05221834406256676, 0.047319959849119186, 0.047319959849119186, 0.047319959849119186, 0.04732039198279381, 0.048365551978349686, 0.048367250710725784, 0.04809233918786049, 0.04809233918786049, 0.04809233918786049, 0.048092346638441086, 0.048092421144247055, 0.047069501131772995, 0.04809461534023285, 0.047334350645542145, 0.04791794717311859, 0.04749399796128273, 0.0481027327477932, 0.04811139777302742, 0.04789402335882187, 0.04926197975873947], \"Term\": [\"victim\", \"suspect\", \"flee\", \"property\", \"elm\", \"take\", \"door\", \"unknown\", \"remove\", \"location\", \"vehicle\", \"open\", \"soccer\", \"enter\", \"use\", \"anzac\", \"window\", \"front\", \"room\", \"leave\", \"order\", \"rear\", \"item\", \"phone\", \"school\", \"side\", \"glass\", \"area\", \"driver\", \"check\", \"victim\", \"leave\", \"state\", \"punch\", \"approach\", \"hit\", \"car\", \"return\", \"time\", \"fear\", \"date\", \"money\", \"walk\", \"tell\", \"ask\", \"cash\", \"refuse\", \"give\", \"threaten\", \"cause\", \"begin\", \"verbal\", \"say\", \"apartment\", \"knife\", \"be\", \"complex\", \"see\", \"number\", \"demand\", \"suspect\", \"elm\", \"flee\", \"property\", \"door\", \"unknown\", \"remove\", \"enter\", \"window\", \"item\", \"garage\", \"exit\", \"business\", \"store\", \"top\", \"violation\", \"card\", \"tool\", \"argument\", \"get\", \"break\", \"ransack\", \"credit\", \"fail\", \"drive\", \"position\", \"away\", \"office\", \"lot\", \"possession\", \"wndw\", \"container\", \"elm\", \"suspect\", \"take\", \"glass\", \"bag\", \"strike\", \"face\", \"gain\", \"street\", \"throw\", \"fire\", \"partner\", \"send\", \"would\", \"work\", \"next\", \"point\", \"bus\", \"kick\", \"truck\", \"basketball\", \"mean\", \"head\", \"family\", \"pocket\", \"injury\", \"resist\", \"look\", \"later\", \"obtain\", \"cellphone\", \"class\", \"order\", \"dispute\", \"pay\", \"call\", \"arrest\", \"attack\", \"stop\", \"conceal\", \"list\", \"observe\", \"locker\", \"together\", \"make\", \"child\", \"purse\", \"mother\", \"employee\", \"regard\", \"hold\", \"obs\", \"basket\", \"hotel\", \"station\", \"spray\", \"space\", \"approached\", \"sign\", \"member\", \"yard\", \"request\", \"room\", \"phone\", \"purchase\", \"attempt\", \"several\", \"push\", \"grab\", \"lock\", \"ball\", \"multiple\", \"account\", \"numerous\", \"police\", \"stab\", \"back\", \"know\", \"secure\", \"follow\", \"poe\", \"drawer\", \"owner\", \"advise\", \"registrant\", \"mail\", \"pull\", \"gun\", \"warn\", \"ticket\", \"table\", \"transaction\", \"location\", \"vehicle\", \"open\", \"front\", \"rear\", \"cut\", \"acct\", \"come\", \"pick\", \"unlock\", \"pry\", \"hood\", \"passenger\", \"battery\", \"proceed\", \"bank\", \"vandalize\", \"scratch\", \"file\", \"brick\", \"row\", \"wire\", \"dog\", \"hard_obj\", \"student\", \"due\", \"way\", \"psngr\", \"cutter\", \"inovle\", \"anzac\", \"area\", \"register\", \"smash\", \"yell\", \"building\", \"run\", \"miss\", \"service\", \"damage\", \"select\", \"case\", \"approx\", \"reg\", \"metal\", \"power\", \"re\", \"theft\", \"facility\", \"people\", \"round\", \"hour\", \"pole\", \"without_paye\", \"various\", \"vict\", \"rem\", \"affiliate\", \"ofcr\", \"hoover\", \"use\", \"school\", \"resid\", \"shot\", \"residence\", \"go\", \"home\", \"argue\", \"force\", \"rock\", \"park\", \"slide\", \"obsd\", \"punched\", \"issue\", \"tenant\", \"email\", \"care\", \"scooter\", \"custody\", \"traffic\", \"letter\", \"landlord\", \"cord\", \"device\", \"drinkg\", \"write\", \"relationship\", \"result\", \"tax\", \"place\", \"dir\", \"confront\", \"bedroom\", \"bottle\", \"housing\", \"bldg\", \"merchandise\", \"entry\", \"steal\", \"unit\", \"machine\", \"bar\", \"exited\", \"backyard\", \"ent\", \"forge\", \"storage\", \"large\", \"reason\", \"informant\", \"box\", \"seat\", \"laptop\", \"process\", \"classroom\", \"bike\", \"crank\", \"type\", \"girlfriend\", \"soccer\", \"check\", \"wit\", \"person\", \"discover\", \"closet\", \"rent\", \"tv\", \"proceeding\", \"night\", \"wait\", \"shoot\", \"live\", \"rife_michoacan\", \"adv\", \"stick\", \"receive\", \"personal\", \"amount\", \"mansion\", \"knfie\", \"gas\", \"ipad\", \"mailbox\", \"shoreline\", \"clean\", \"golf\", \"art\", \"crome\", \"basketball_legacy\", \"side\", \"driver\", \"pass\", \"direction\", \"middle\", \"wo\", \"porch\", \"roommate\", \"rmv\", \"sentere\", \"jar\", \"gain_entry\", \"realtionship\", \"disagreement\", \"dwn\", \"sidegate\", \"ransancke\", \"recall\", \"unkparke\", \"instaloan\", \"stationand\", \"audiovisual\", \"advsdnot\", \"combination\", \"breakroom\", \"removedvict\", \"callingyou\", \"behond\", \"upv\", \"thumb\", \"startedkicke\", \"tennant\", \"shed\", \"tablet\", \"pssngr\", \"carpool\", \"frt\", \"truckbed\", \"fight\", \"fist\", \"altercation\", \"wall\", \"campus\", \"produce\", \"intentionally\", \"engage\", \"trespass\", \"today\", \"jump\", \"intervene\", \"end\", \"speed\", \"broke\", \"upper\", \"manchine\", \"thejaw\", \"tokick\", \"litter\", \"valid\", \"spraypainte\", \"usedher\", \"redirect\", \"gainemployment\", \"gunning\", \"hickie\", \"din\", \"patience\", \"protective\", \"delibertly\", \"utiize\", \"favor\", \"blanca\", \"admit\", \"raul\"], \"Total\": [10250.0, 9770.0, 2877.0, 2476.0, 2516.0, 988.0, 1966.0, 1797.0, 1757.0, 782.0, 761.0, 622.0, 388.0, 1109.0, 418.0, 383.0, 963.0, 412.0, 403.0, 1086.0, 372.0, 341.0, 712.0, 340.0, 266.0, 197.0, 320.0, 253.0, 192.0, 220.0, 10250.375, 1086.1607666015625, 719.6009521484375, 615.2963256835938, 552.6083374023438, 489.2131042480469, 423.4192810058594, 417.99310302734375, 397.6518859863281, 330.3480529785156, 315.9927978515625, 304.1708679199219, 276.5570373535156, 271.42242431640625, 263.7967224121094, 263.5550537109375, 255.3910369873047, 239.30340576171875, 234.83132934570312, 225.9176483154297, 203.84442138671875, 186.35887145996094, 183.59681701660156, 179.8016357421875, 162.08255004882812, 149.36062622070312, 145.9580841064453, 136.76589965820312, 130.88531494140625, 128.10833740234375, 9770.0439453125, 2516.3759765625, 2877.134765625, 2476.271728515625, 1966.6240234375, 1797.51220703125, 1757.2252197265625, 1109.7738037109375, 963.6809692382812, 712.1561279296875, 540.6388549804688, 494.6217346191406, 426.607177734375, 408.271240234375, 390.3470458984375, 256.4097900390625, 240.29319763183594, 239.45518493652344, 215.8892822265625, 201.19407653808594, 173.74855041503906, 143.34335327148438, 142.75502014160156, 140.3003387451172, 129.06884765625, 126.06437683105469, 124.49658203125, 119.0435791015625, 111.38672637939453, 109.3677749633789, 98.99372863769531, 90.54794311523438, 2516.3759765625, 9770.0439453125, 988.102783203125, 320.1436462402344, 282.7679138183594, 241.92376708984375, 224.0465545654297, 174.87449645996094, 169.6366424560547, 150.3411865234375, 141.0544891357422, 135.22776794433594, 134.87527465820312, 104.1007308959961, 103.5719223022461, 103.36201477050781, 101.25409698486328, 100.3675765991211, 86.18568420410156, 84.07209777832031, 77.65921783447266, 73.88684844970703, 66.00244140625, 61.38173294067383, 60.02294158935547, 58.9776611328125, 58.06953048706055, 52.531227111816406, 51.10227584838867, 50.95020294189453, 50.099674224853516, 48.843177795410156, 372.11077880859375, 299.55706787109375, 299.447265625, 271.73516845703125, 213.05783081054688, 190.7303009033203, 187.9958953857422, 173.73782348632812, 163.04684448242188, 157.4727020263672, 149.37472534179688, 137.58786010742188, 134.4460906982422, 124.32919311523438, 118.78744506835938, 103.85294342041016, 91.94691467285156, 91.9344253540039, 88.6635971069336, 85.80007934570312, 81.23405456542969, 77.06970977783203, 74.36378479003906, 72.85902404785156, 72.54926300048828, 69.04905700683594, 67.9697036743164, 63.30514907836914, 63.13480758666992, 62.27022933959961, 403.9293212890625, 340.8970947265625, 278.4462585449219, 274.62548828125, 221.04185485839844, 208.78468322753906, 206.8389892578125, 188.4115753173828, 149.06163024902344, 142.39639282226562, 121.5792465209961, 116.62509155273438, 113.9344253540039, 113.05747985839844, 98.26016998291016, 90.93363189697266, 90.51647186279297, 86.13615417480469, 79.6824951171875, 73.76294708251953, 68.99005126953125, 66.1100082397461, 62.413028717041016, 61.30143356323242, 60.97270202636719, 59.91310501098633, 59.28752136230469, 56.97456741333008, 56.0284309387207, 55.81985855102539, 782.302978515625, 761.7626953125, 622.4032592773438, 412.44720458984375, 341.584228515625, 184.93389892578125, 140.63504028320312, 104.95638275146484, 101.9389419555664, 99.22369384765625, 63.88081359863281, 59.10162353515625, 58.416561126708984, 58.19780349731445, 46.19804763793945, 44.66667938232422, 43.85585021972656, 43.83119201660156, 41.61965560913086, 39.51590347290039, 39.127906799316406, 34.70418930053711, 31.98499298095703, 31.511306762695312, 30.475522994995117, 30.313983917236328, 28.414854049682617, 28.11074447631836, 26.52104949951172, 26.152864456176758, 383.5238037109375, 253.28775024414062, 183.4744110107422, 180.9160614013672, 123.32601928710938, 109.37399291992188, 108.70494842529297, 99.66594696044922, 95.09199523925781, 86.89813995361328, 84.72450256347656, 72.90078735351562, 68.3221435546875, 63.30364227294922, 53.81395721435547, 51.77558517456055, 49.902313232421875, 49.28868865966797, 43.963951110839844, 43.233787536621094, 42.92710876464844, 38.31220626831055, 32.75619888305664, 29.69830894470215, 28.214345932006836, 26.401426315307617, 26.15565299987793, 25.08567237854004, 24.98548698425293, 22.253286361694336, 418.12176513671875, 266.5711669921875, 214.18313598632812, 164.3852996826172, 151.0911407470703, 150.27792358398438, 115.96186828613281, 73.64830780029297, 66.99347686767578, 61.75221633911133, 59.165401458740234, 56.73344039916992, 54.96307373046875, 49.5769157409668, 48.346622467041016, 39.62785720825195, 38.277313232421875, 34.80073165893555, 31.57857894897461, 31.165958404541016, 30.983896255493164, 29.707468032836914, 28.77327537536621, 26.13896942138672, 24.885425567626953, 22.61219024658203, 21.71528434753418, 20.235614776611328, 16.03904914855957, 13.84799861907959, 198.60855102539062, 169.56927490234375, 136.83287048339844, 130.7700653076172, 114.77828216552734, 111.57132720947266, 92.08464050292969, 86.86500549316406, 83.57368469238281, 80.24069213867188, 78.55342102050781, 65.64496612548828, 61.32560348510742, 48.704551696777344, 48.193336486816406, 47.71448516845703, 41.64462661743164, 40.91194534301758, 39.40562438964844, 37.2874755859375, 33.37672424316406, 33.277183532714844, 29.763517379760742, 25.89018440246582, 25.096418380737305, 24.677448272705078, 22.86882781982422, 20.504587173461914, 18.183549880981445, 17.752883911132812, 388.5928649902344, 220.5441131591797, 164.60546875, 129.9749755859375, 79.51752471923828, 66.08816528320312, 56.06803512573242, 39.436279296875, 37.51475524902344, 36.397403717041016, 32.431663513183594, 30.31453514099121, 29.91141700744629, 27.02914047241211, 26.511396408081055, 22.803442001342773, 22.009414672851562, 21.734373092651367, 18.779964447021484, 18.623977661132812, 18.477888107299805, 16.72429656982422, 14.555252075195312, 9.997862815856934, 9.406723022460938, 9.142619132995605, 8.59267520904541, 7.322789669036865, 6.706968307495117, 6.485158443450928, 197.82716369628906, 192.6317596435547, 117.9234848022461, 115.33463287353516, 23.275094985961914, 15.951888084411621, 14.622438430786133, 13.652950286865234, 11.359076499938965, 8.640654563903809, 4.669247150421143, 3.5488202571868896, 2.1645965576171875, 1.685384750366211, 0.9956665635108948, 0.9766223430633545, 0.9872010946273804, 0.9628825187683105, 0.9782677888870239, 0.9746366739273071, 0.9746366739273071, 0.9746366739273071, 0.9746366739273071, 0.9753398895263672, 0.9724252223968506, 0.9849581122398376, 0.9661546349525452, 0.9661546349525452, 0.9661546349525452, 0.9661546349525452, 0.9661546349525452, 1.0233447551727295, 0.9723612666130066, 1.0206128358840942, 1.0191665887832642, 1.0354294776916504, 1.0242513418197632, 0.9951342940330505, 75.8994369506836, 67.07067108154297, 52.782676696777344, 49.303810119628906, 45.25411605834961, 18.358259201049805, 18.163846969604492, 18.127378463745117, 15.348698616027832, 15.317816734313965, 7.0869622230529785, 4.941414833068848, 4.518999099731445, 3.5696916580200195, 3.0555992126464844, 0.9601794481277466, 0.964450478553772, 0.964450478553772, 0.964450478553772, 0.9647564888000488, 0.9879058599472046, 0.9886689782142639, 0.9853552579879761, 0.9853552579879761, 0.9853552579879761, 0.9853661060333252, 0.9854476451873779, 0.9645848870277405, 0.9866716861724854, 0.9718524217605591, 0.9846339821815491, 0.9763090014457703, 0.9958668351173401, 0.9977194666862488, 1.0377833843231201, 1.340222954750061], \"loglift\": [30.0, 29.0, 28.0, 27.0, 26.0, 25.0, 24.0, 23.0, 22.0, 21.0, 20.0, 19.0, 18.0, 17.0, 16.0, 15.0, 14.0, 13.0, 12.0, 11.0, 10.0, 9.0, 8.0, 7.0, 6.0, 5.0, 4.0, 3.0, 2.0, 1.0, 1.0413000583648682, 1.0405999422073364, 1.0401999950408936, 1.0399999618530273, 1.0398000478744507, 1.0396000146865845, 1.0392999649047852, 1.0392999649047852, 1.039199948310852, 1.038699984550476, 1.038599967956543, 1.0384999513626099, 1.0382000207901, 1.0382000207901, 1.038100004196167, 1.038100004196167, 1.0379999876022339, 1.0377999544143677, 1.0377000570297241, 1.037500023841858, 1.0370999574661255, 1.0367000102996826, 1.0367000102996826, 1.0365999937057495, 1.0360000133514404, 1.035599946975708, 1.0355000495910645, 1.035099983215332, 1.0348000526428223, 1.034600019454956, 1.0297000408172607, -1.8062000274658203, 1.3581000566482544, 1.3581000566482544, 1.3580000400543213, 1.3579000234603882, 1.3579000234603882, 1.3575999736785889, 1.3574999570846558, 1.357200026512146, 1.3567999601364136, 1.3566999435424805, 1.3564000129699707, 1.3562999963760376, 1.3561999797821045, 1.3551000356674194, 1.3547999858856201, 1.3547999858856201, 1.3544000387191772, 1.354099988937378, 1.3535000085830688, 1.3523999452590942, 1.3523999452590942, 1.3523000478744507, 1.351699948310852, 1.3516000509262085, 1.3515000343322754, 1.351199984550476, 1.3507000207901, 1.3504999876022339, 1.3496999740600586, 1.3488999605178833, 1.29830002784729, -3.1059999465942383, 2.7028000354766846, 2.7009999752044678, 2.700700044631958, 2.7000999450683594, 2.6998000144958496, 2.6988000869750977, 2.6986000537872314, 2.6979000568389893, 2.6975998878479004, 2.6972999572753906, 2.6972999572753906, 2.6953999996185303, 2.6953001022338867, 2.6953001022338867, 2.6951000690460205, 2.694999933242798, 2.6935999393463135, 2.6933999061584473, 2.692500114440918, 2.6919000148773193, 2.690500020980835, 2.689500093460083, 2.689199924468994, 2.6888999938964844, 2.688699960708618, 2.6870999336242676, 2.6865999698638916, 2.6865999698638916, 2.686300039291382, 2.685800075531006, 2.705199956893921, 2.7046000957489014, 2.7046000957489014, 2.7042999267578125, 2.703399896621704, 2.703000068664551, 2.702899932861328, 2.702500104904175, 2.702199935913086, 2.7019999027252197, 2.70169997215271, 2.701200008392334, 2.7009999752044678, 2.700500011444092, 2.700200080871582, 2.6991000175476074, 2.697999954223633, 2.697999954223633, 2.697700023651123, 2.6974000930786133, 2.6967999935150146, 2.696199893951416, 2.6958000659942627, 2.695499897003174, 2.695499897003174, 2.6949000358581543, 2.694700002670288, 2.693700075149536, 2.693700075149536, 2.69350004196167, 2.7404000759124756, 2.740000009536743, 2.739500045776367, 2.7393999099731445, 2.7386999130249023, 2.7383999824523926, 2.7383999824523926, 2.73799991607666, 2.736799955368042, 2.7365000247955322, 2.7353999614715576, 2.735100030899048, 2.734999895095825, 2.7348999977111816, 2.7337000370025635, 2.7330000400543213, 2.7330000400543213, 2.7325000762939453, 2.7316999435424805, 2.730799913406372, 2.7300000190734863, 2.7293999195098877, 2.728600025177002, 2.7283999919891357, 2.728300094604492, 2.7279999256134033, 2.7279000282287598, 2.727299928665161, 2.7269999980926514, 2.7269999980926514, 2.8893001079559326, 2.8893001079559326, 2.8891000747680664, 2.888400077819824, 2.8879001140594482, 2.8857998847961426, 2.8842999935150146, 2.882200002670288, 2.881999969482422, 2.881700038909912, 2.8768999576568604, 2.875699996948242, 2.8756000995635986, 2.875499963760376, 2.8715999126434326, 2.871000051498413, 2.8705999851226807, 2.8705999851226807, 2.869499921798706, 2.8684000968933105, 2.8682000637054443, 2.865299940109253, 2.863100051879883, 2.8626999855041504, 2.8617000579833984, 2.861599922180176, 2.859600067138672, 2.859299898147583, 2.8573999404907227, 2.8568999767303467, 3.36899995803833, 3.367799997329712, 3.366499900817871, 3.3664000034332275, 3.3640999794006348, 3.3631999492645264, 3.3631999492645264, 3.3624000549316406, 3.361999988555908, 3.3610999584198, 3.3608999252319336, 3.3592000007629395, 3.3584001064300537, 3.3573999404907227, 3.3548998832702637, 3.3541998863220215, 3.353600025177002, 3.3533999919891357, 3.3512001037597656, 3.350800037384033, 3.3506999015808105, 3.3482000827789307, 3.3441998958587646, 3.341399908065796, 3.3397998809814453, 3.337599992752075, 3.3373000621795654, 3.3357999324798584, 3.335700035095215, 3.331199884414673, 3.455399990081787, 3.454200029373169, 3.453399896621704, 3.452199935913086, 3.45169997215271, 3.45169997215271, 3.449899911880493, 3.4456000328063965, 3.4444000720977783, 3.44320011138916, 3.4426000118255615, 3.441999912261963, 3.4414000511169434, 3.43969988822937, 3.439199924468994, 3.4351999759674072, 3.4344000816345215, 3.431999921798706, 3.4293999671936035, 3.428999900817871, 3.428800106048584, 3.4275999069213867, 3.4265999794006348, 3.4233999252319336, 3.4217000007629395, 3.4179999828338623, 3.416300058364868, 3.4131999015808105, 3.4012999534606934, 3.3921000957489014, 3.6048998832702637, 3.6041998863220215, 3.6029000282287598, 3.60260009765625, 3.6017000675201416, 3.6015000343322754, 3.5998001098632812, 3.5992000102996826, 3.59879994392395, 3.598400115966797, 3.598099946975708, 3.595900058746338, 3.594899892807007, 3.591200113296509, 3.5910000801086426, 3.5908000469207764, 3.5880000591278076, 3.5876998901367188, 3.5868000984191895, 3.5855000019073486, 3.58270001411438, 3.5826001167297363, 3.579400062561035, 3.5748000144958496, 3.573699951171875, 3.5731000900268555, 3.570199966430664, 3.5655999183654785, 3.559799909591675, 3.5585999488830566, 3.7981998920440674, 3.7964999675750732, 3.795099973678589, 3.7936999797821045, 3.789299964904785, 3.7869999408721924, 3.784600019454956, 3.777899980545044, 3.776700019836426, 3.775899887084961, 3.772900104522705, 3.7709999084472656, 3.7704999446868896, 3.7672998905181885, 3.7665998935699463, 3.760999917984009, 3.7595999240875244, 3.7590999603271484, 3.7523999214172363, 3.752000093460083, 3.7516000270843506, 3.746299982070923, 3.73799991607666, 3.7081000804901123, 3.7019999027252197, 3.6989998817443848, 3.692199945449829, 3.6721999645233154, 3.6594998836517334, 3.6542999744415283, 4.339000225067139, 4.338900089263916, 4.335999965667725, 4.3358001708984375, 4.304500102996826, 4.286099910736084, 4.280700206756592, 4.276100158691406, 4.261899948120117, 4.234799861907959, 4.131999969482422, 4.054699897766113, 3.813800096511841, 3.592400074005127, 1.7146999835968018, 1.6786999702453613, 1.6691999435424805, 1.6690000295639038, 1.6685999631881714, 1.6683000326156616, 1.6683000326156616, 1.6683000326156616, 1.6683000326156616, 1.6677000522613525, 1.660599946975708, 1.6569000482559204, 1.6556999683380127, 1.6556999683380127, 1.6556999683380127, 1.6556999683380127, 1.6556999683380127, 1.6441999673843384, 1.654099941253662, 1.6346999406814575, 1.6346999406814575, 1.6252000331878662, 1.6216000318527222, 1.6376999616622925, 4.808800220489502, 4.807199954986572, 4.803500175476074, 4.802199840545654, 4.80049991607666, 4.770100116729736, 4.769499778747559, 4.769400119781494, 4.759799957275391, 4.759699821472168, 4.683700084686279, 4.617599964141846, 4.596499919891357, 4.527299880981445, 4.468200206756592, 1.90910005569458, 1.8062000274658203, 1.8062000274658203, 1.8062000274658203, 1.805899977684021, 1.8040000200271606, 1.8033000230789185, 1.8008999824523926, 1.8008999824523926, 1.8008999824523926, 1.8008999824523926, 1.8007999658584595, 1.8006999492645264, 1.7996000051498413, 1.798799991607666, 1.7979999780654907, 1.7976000308990479, 1.7905000448226929, 1.7889000177383423, 1.7450000047683716, 1.5174000263214111], \"logprob\": [30.0, 29.0, 28.0, 27.0, 26.0, 25.0, 24.0, 23.0, 22.0, 21.0, 20.0, 19.0, 18.0, 17.0, 16.0, 15.0, 14.0, 13.0, 12.0, 11.0, 10.0, 9.0, 8.0, 7.0, 6.0, 5.0, 4.0, 3.0, 2.0, 1.0, -1.2315000295639038, -3.476900100708008, -3.8889999389648438, -4.04580020904541, -4.15339994430542, -4.2754998207092285, -4.420199871063232, -4.43310022354126, -4.483099937438965, -4.669000148773193, -4.713500022888184, -4.751699924468994, -4.8471999168396, -4.866000175476074, -4.894599914550781, -4.895500183105469, -4.92710018157959, -4.992400169372559, -5.011300086975098, -5.050099849700928, -5.15339994430542, -5.2434000968933105, -5.258399963378906, -5.279399871826172, -5.383699893951416, -5.46589994430542, -5.489099979400635, -5.554500102996826, -5.598800182342529, -5.620299816131592, -1.291100025177002, -5.483500003814697, -2.1851999759674072, -2.3352999687194824, -2.5657999515533447, -2.6558001041412354, -2.678499937057495, -3.1382999420166016, -3.279599905014038, -3.58240008354187, -3.858299970626831, -3.9474000930786133, -4.095600128173828, -4.139599800109863, -4.184599876403809, -4.605999946594238, -4.671199798583984, -4.674699783325195, -4.77869987487793, -4.8495001792907715, -4.996799945831299, -5.190199851989746, -5.194300174713135, -5.2118000984191895, -5.29580020904541, -5.319499969482422, -5.332099914550781, -5.377200126647949, -5.444200038909912, -5.462600231170654, -5.5630998611450195, -5.65310001373291, -2.3789000511169434, -5.426700115203857, -1.9091999530792236, -3.038100004196167, -3.162600040435791, -3.3190999031066895, -3.396199941635132, -3.6449999809265137, -3.675600051879883, -3.796999931335449, -3.8612000942230225, -3.903599977493286, -3.9061999320983887, -4.167099952697754, -4.172299861907959, -4.174300193786621, -4.195099830627441, -4.203999996185303, -4.357699871063232, -4.382800102233887, -4.4629998207092285, -4.513400077819824, -4.627699851989746, -4.701200008392334, -4.723999977111816, -4.741799831390381, -4.757500171661377, -4.859399795532227, -4.887400150299072, -4.890399932861328, -4.907599925994873, -4.9334001541137695, -2.883500099182129, -3.1008999347686768, -3.101300001144409, -3.198699951171875, -3.4428999423980713, -3.553999900817871, -3.56850004196167, -3.6477999687194824, -3.7116000652313232, -3.7465999126434326, -3.7997000217437744, -3.8824000358581543, -3.905600070953369, -3.9844000339508057, -4.030300140380859, -4.165800094604492, -4.288599967956543, -4.288700103759766, -4.325300216674805, -4.358500003814697, -4.413700103759766, -4.4670000076293945, -4.5030999183654785, -4.523799896240234, -4.52810001373291, -4.578199863433838, -4.594099998474121, -4.666200160980225, -4.668900012969971, -4.6828999519348145, -2.766200065612793, -2.936199903488159, -3.13919997215271, -3.1530001163482666, -3.370800018310547, -3.428100109100342, -3.4375, -3.5311999320983887, -3.766700029373169, -3.812700033187866, -3.9718000888824463, -4.013700008392334, -4.037300109863281, -4.045000076293945, -4.186500072479248, -4.264699935913086, -4.2692999839782715, -4.319399833679199, -4.398099899291992, -4.476200103759766, -4.543900012969971, -4.587100028991699, -4.645400047302246, -4.663700103759766, -4.669099807739258, -4.6869001388549805, -4.6975998878479, -4.73799991607666, -4.755000114440918, -4.758800029754639, -1.9563000202178955, -1.9829000234603882, -2.1851999759674072, -2.597399950027466, -2.78629994392395, -3.402100086212158, -3.6774001121520996, -3.972100019454956, -4.001500129699707, -4.028800010681152, -4.473999977111816, -4.552800178527832, -4.564700126647949, -4.56850004196167, -4.803299903869629, -4.837699890136719, -4.856400012969971, -4.856900215148926, -4.909800052642822, -4.962800025939941, -4.972899913787842, -5.095699787139893, -5.179500102996826, -5.194799900054932, -5.2291998863220215, -5.2347002029418945, -5.301300048828125, -5.312399864196777, -5.372499942779541, -5.38700008392334, -2.189500093460083, -2.6054999828338623, -2.92930006980896, -2.9433999061584473, -3.328900098800659, -3.449899911880493, -3.4560000896453857, -3.543600082397461, -3.5910000801086426, -3.681999921798706, -3.7076001167297363, -3.859600067138672, -3.9251999855041504, -4.002600193023682, -4.167399883270264, -4.206699848175049, -4.244200229644775, -4.256800174713135, -4.373300075531006, -4.390399932861328, -4.39769983291626, -4.513899803161621, -4.674499988555908, -4.775400161743164, -4.828199863433838, -4.8968000411987305, -4.906499862670898, -4.94980001449585, -4.95389986038208, -5.074100017547607, -2.016700029373169, -2.4679999351501465, -2.6875998973846436, -2.9535000324249268, -3.038300037384033, -3.0436999797821045, -3.3046998977661133, -3.763000011444092, -3.8589000701904297, -3.941499948501587, -3.9848999977111816, -4.027500152587891, -4.059700012207031, -4.164599895477295, -4.190199851989746, -4.393199920654297, -4.428599834442139, -4.526199817657471, -4.625999927520752, -4.639500141143799, -4.645599842071533, -4.688899993896484, -4.721799850463867, -4.821000099182129, -4.8719000816345215, -4.971399784088135, -5.013500213623047, -5.087200164794922, -5.331500053405762, -5.487599849700928, -2.611599922180176, -2.770400047302246, -2.9862000942230225, -3.0318000316619873, -3.1631999015808105, -3.191699981689453, -3.3854000568389893, -3.4442999362945557, -3.483299970626831, -3.5244998931884766, -3.5460000038146973, -3.7276999950408936, -3.7967000007629395, -4.030900001525879, -4.0416998863220215, -4.051799774169922, -4.1905999183654785, -4.208799839019775, -4.247099876403809, -4.303699970245361, -4.417300224304199, -4.420400142669678, -4.535200119018555, -4.679200172424316, -4.711400032043457, -4.728899955749512, -4.8078999519348145, -4.921599864959717, -5.047500133514404, -5.072700023651123, -1.7470999956130981, -2.3152999877929688, -2.6092000007629395, -2.8468000888824463, -3.342600107192993, -3.5297999382019043, -3.696700096130371, -4.055300235748291, -4.106400012969971, -4.137400150299072, -4.255799770355225, -4.325300216674805, -4.339099884033203, -4.443600177764893, -4.463600158691406, -4.619900226593018, -4.656799793243408, -4.669899940490723, -4.822700023651123, -4.831399917602539, -4.839700222015381, -4.944699764251709, -5.091899871826172, -5.497399806976318, -5.5644001960754395, -5.595900058746338, -5.66480016708374, -5.844699859619141, -5.945199966430664, -5.984000205993652, -1.8813999891281128, -1.9082000255584717, -2.4017999172210693, -2.4242000579833984, -4.0559000968933105, -4.452199935913086, -4.544600009918213, -4.617800235748291, -4.815899848937988, -5.116600036621094, -5.834799766540527, -6.186500072479248, -6.921800136566162, -7.393499851226807, -9.797499656677246, -9.852800369262695, -9.85159969329834, -9.87660026550293, -9.861200332641602, -9.865300178527832, -9.865300178527832, -9.865300178527832, -9.865300178527832, -9.865099906921387, -9.875200271606445, -9.866100311279297, -9.88659954071045, -9.88659954071045, -9.88659954071045, -9.88659954071045, -9.88659954071045, -9.84060001373291, -9.881799697875977, -9.852700233459473, -9.85420036315918, -9.847800254821777, -9.862299919128418, -9.875, -2.3696999549865723, -2.4948999881744385, -2.7381999492645264, -2.8076000213623047, -2.8949999809265137, -3.827699899673462, -3.838900089263916, -3.8410000801086426, -4.017000198364258, -4.019100189208984, -4.865900039672852, -5.292600154876709, -5.40310001373291, -5.708099842071533, -5.922699928283691, -9.639399528503418, -9.737899780273438, -9.737899780273438, -9.737899780273438, -9.737899780273438, -9.715999603271484, -9.715999603271484, -9.721699714660645, -9.721699714660645, -9.721699714660645, -9.721699714660645, -9.721699714660645, -9.743200302124023, -9.721599578857422, -9.737600326538086, -9.725299835205078, -9.734199523925781, -9.721500396728516, -9.72130012512207, -9.725799560546875, -9.697699546813965]}, \"token.table\": {\"Topic\": [5, 6, 10, 5, 7, 12, 10, 7, 1, 1, 4, 7, 7, 8, 2, 4, 10, 1, 4, 5, 2, 5, 9, 3, 5, 6, 9, 4, 3, 10, 6, 1, 9, 1, 9, 9, 9, 9, 2, 6, 12, 7, 3, 2, 4, 12, 1, 2, 8, 7, 1, 1, 3, 10, 4, 3, 9, 10, 10, 6, 1, 4, 9, 2, 8, 9, 2, 10, 8, 6, 6, 7, 1, 1, 8, 9, 11, 11, 10, 4, 6, 2, 5, 8, 2, 11, 6, 1, 2, 8, 4, 12, 12, 9, 2, 9, 2, 9, 3, 7, 2, 3, 1, 12, 6, 3, 12, 2, 5, 8, 9, 6, 3, 11, 2, 10, 2, 9, 1, 3, 8, 10, 5, 5, 6, 3, 1, 4, 8, 6, 7, 4, 7, 9, 9, 3, 6, 12, 12, 10, 8, 2, 11, 12, 3, 10, 1, 5, 8, 9, 9, 3, 1, 8, 4, 10, 6, 5, 4, 3, 2, 9, 5, 10, 4, 10, 3, 4, 9, 7, 11, 7, 1, 4, 5, 3, 10, 1, 5, 4, 8, 4, 3, 7, 2, 6, 4, 5, 8, 3, 11, 6, 4, 7, 10, 10, 5, 6, 9, 3, 5, 3, 7, 5, 11, 2, 2, 7, 6, 10, 9, 12, 2, 6, 6, 5, 1, 8, 5, 4, 5, 2, 7, 11, 6, 9, 10, 1, 7, 4, 7, 5, 8, 7, 2, 10, 4, 8, 8, 3, 8, 1, 10, 11, 8, 5, 11, 7, 6, 7, 1, 8, 8, 6, 9, 5, 1, 7, 3, 11, 7, 5, 10, 10, 8, 11, 4, 8, 7, 10, 4, 12, 4, 5, 1, 4, 9, 10, 4, 9, 2, 3, 3, 6, 1, 2, 5, 3, 8, 1, 8, 7, 1, 3, 5, 1, 12, 4, 2, 2, 8, 5, 12, 3, 10, 9, 9, 2, 6, 8, 6, 7, 6, 1, 7, 1, 2, 10, 1, 12, 5, 6, 2, 6, 10, 7, 2, 11, 3, 3, 8, 4, 7], \"Freq\": [0.9952356219291687, 0.995484471321106, 0.9807103276252747, 0.9832096695899963, 0.9567214250564575, 0.9851717352867126, 0.9584682583808899, 0.9986342191696167, 0.9955415725708008, 0.9988991618156433, 0.9848070740699768, 0.980648398399353, 0.9949158430099487, 0.9911972284317017, 0.9958808422088623, 0.9950349926948547, 0.8193598985671997, 0.9969797730445862, 0.9961710572242737, 0.9977223873138428, 0.9960112571716309, 0.9871751666069031, 0.975238561630249, 0.9972842931747437, 0.9928779006004333, 0.9850743412971497, 0.9783841967582703, 0.9848086833953857, 0.9915114045143127, 0.9251894354820251, 0.9794183969497681, 0.9975855350494385, 0.9941112995147705, 0.9958575367927551, 0.9620081782341003, 0.988221287727356, 0.993219256401062, 0.9616198539733887, 0.9956917762756348, 0.9869444370269775, 0.6545361280441284, 0.9965806007385254, 0.9963377118110657, 0.9985767006874084, 0.997294545173645, 0.9722872376441956, 0.9990097880363464, 0.9946182370185852, 0.9769909381866455, 0.9876436591148376, 0.9978939890861511, 0.9959381222724915, 0.9780502915382385, 0.997532844543457, 0.9893090724945068, 0.9827370643615723, 0.9725478887557983, 0.8750227689743042, 0.9835346341133118, 0.9908878207206726, 0.9934359192848206, 0.9957532286643982, 0.9939132332801819, 0.9939485788345337, 0.9564263820648193, 0.9753915071487427, 0.9947111010551453, 0.8945919871330261, 0.9625887274742126, 0.9949501156806946, 0.9803533554077148, 0.9896644353866577, 0.9968581795692444, 0.9913484454154968, 0.9644199013710022, 0.9966428279876709, 0.9884281754493713, 0.5933363437652588, 0.9934917092323303, 0.9981403350830078, 0.9692045450210571, 0.9996826648712158, 0.9896567463874817, 0.9729265570640564, 0.9917187690734863, 0.9967203736305237, 0.9566541910171509, 0.05801994726061821, 0.9418306350708008, 0.9666300415992737, 0.989701509475708, 0.885151743888855, 0.9378079771995544, 0.9850258231163025, 0.9993027448654175, 0.9931355714797974, 0.9987429976463318, 0.9855341911315918, 0.9953288435935974, 0.9780740737915039, 0.9907317757606506, 0.9937810301780701, 0.9959192872047424, 0.9881496429443359, 0.9851114749908447, 0.992524266242981, 0.9840366840362549, 0.9996055960655212, 0.9868097901344299, 0.9851705431938171, 0.9845207929611206, 0.9989157319068909, 0.9949992895126343, 0.8453513383865356, 0.9988183379173279, 0.9566919803619385, 0.9940650463104248, 0.9575908780097961, 0.9945533275604248, 0.9964277148246765, 0.9914962649345398, 0.931025505065918, 0.9959437847137451, 0.984759509563446, 0.9837738871574402, 0.9848120808601379, 0.9975202679634094, 0.9925155639648438, 0.9917052984237671, 0.9813604950904846, 0.9436808228492737, 0.9861202239990234, 0.9657496809959412, 0.9948792457580566, 0.9587519764900208, 0.9834231734275818, 0.9559182524681091, 0.9359250664710999, 0.8094847798347473, 0.9618521332740784, 0.9721465110778809, 0.9983766078948975, 0.8566691279411316, 0.8466250896453857, 0.9862426519393921, 0.9741373062133789, 0.9933210015296936, 0.9897328019142151, 0.9731252193450928, 0.9656169414520264, 0.9897064566612244, 0.9784300327301025, 0.9989312887191772, 0.9761855006217957, 0.9935795068740845, 0.9695294499397278, 0.9983344078063965, 0.9978155493736267, 0.9974913597106934, 0.9898874163627625, 0.9965280890464783, 0.9901749491691589, 0.9787699580192566, 0.900192379951477, 0.9966819882392883, 0.9664959907531738, 0.9879972338676453, 0.9793832302093506, 0.990041971206665, 0.9848746061325073, 0.9452163577079773, 0.9933182001113892, 0.9961506128311157, 0.9917870163917542, 0.9972162842750549, 0.9868228435516357, 0.9890815615653992, 0.9932359457015991, 0.9946401715278625, 0.9906750917434692, 0.9824777841567993, 0.9969981908798218, 0.9813503623008728, 0.9605576395988464, 0.9912336468696594, 0.9993520975112915, 0.9970149397850037, 0.9856493473052979, 0.980302631855011, 0.9909207224845886, 0.9921687841415405, 0.9928691387176514, 0.9985063672065735, 0.9714624285697937, 0.9924987554550171, 0.9662114381790161, 0.9973684549331665, 0.9907891750335693, 0.9969359040260315, 0.9829574823379517, 0.9914348125457764, 0.9876143336296082, 0.9769143462181091, 0.9917985796928406, 0.9574326276779175, 0.9915568828582764, 0.9966372847557068, 0.9850202798843384, 0.9740671515464783, 0.9862785935401917, 0.9563117623329163, 0.926013708114624, 0.9994864463806152, 0.9862115979194641, 0.9604868292808533, 0.9840469360351562, 0.9978931546211243, 0.9883632063865662, 0.9983973503112793, 0.9933709502220154, 0.9962416887283325, 0.9906284213066101, 0.9819183945655823, 0.46197986602783203, 0.9982896447181702, 0.965471625328064, 0.9541371464729309, 0.9984688758850098, 0.9794065356254578, 0.9898359775543213, 0.9974142909049988, 0.9933823347091675, 0.9389386177062988, 0.9558163285255432, 0.9993027448654175, 0.9809510707855225, 0.9796013236045837, 0.9944760799407959, 0.9927782416343689, 0.9815819263458252, 0.935217559337616, 0.9976240992546082, 0.9619247913360596, 0.8803532719612122, 0.9878187775611877, 0.9976993203163147, 0.9521751403808594, 0.9784027338027954, 0.971173882484436, 0.9935150146484375, 0.9967492818832397, 0.9978573322296143, 0.9816781282424927, 0.9810365438461304, 0.9743472337722778, 0.9942941665649414, 0.994399905204773, 0.991448700428009, 0.9935104846954346, 0.9258557558059692, 0.9885164499282837, 0.9952866435050964, 0.9566367864608765, 0.9567624926567078, 0.9976561069488525, 0.9958187341690063, 0.9857332706451416, 0.9870721697807312, 0.9949365258216858, 0.9984742999076843, 0.9924290776252747, 0.8404087424278259, 0.9882097840309143, 0.9906465411186218, 0.999164879322052, 0.9816606044769287, 0.9845378398895264, 0.9647666215896606, 0.9947025775909424, 0.9777095317840576, 0.9968863129615784, 0.9962469935417175, 0.9961816072463989, 0.9843965768814087, 0.9884295463562012, 0.01146361231803894, 0.9816444516181946, 0.9988839626312256, 0.9387637972831726, 0.9984436631202698, 0.9841561913490295, 0.9738542437553406, 0.9964599013328552, 0.9910790324211121, 0.9828947186470032, 0.9983606338500977, 0.9139683842658997, 0.9957273602485657, 0.9980990886688232, 0.996549129486084, 0.9682449102401733, 0.9853124022483826, 0.9121294617652893, 0.987247884273529, 0.9889370799064636, 0.9349109530448914, 0.9929548501968384, 0.9997150301933289, 0.9876673221588135, 0.9973171353340149, 0.9804849028587341, 0.9569599628448486, 0.998998761177063, 0.9980742931365967, 0.9847952723503113, 0.9999634027481079, 0.9984018206596375, 0.9866900444030762, 0.99798583984375, 0.9735555648803711, 0.9782834053039551, 0.9854000806808472, 0.9992933869361877, 0.9797087907791138, 0.9963216781616211, 0.9764865636825562, 0.9899616837501526, 0.9403275847434998, 0.9944780468940735, 0.98942631483078, 0.9670608043670654, 0.9820256233215332, 0.9892478585243225], \"Term\": [\"account\", \"acct\", \"adv\", \"advise\", \"affiliate\", \"altercation\", \"amount\", \"anzac\", \"apartment\", \"approach\", \"approached\", \"approx\", \"area\", \"argue\", \"argument\", \"arrest\", \"art\", \"ask\", \"attack\", \"attempt\", \"away\", \"back\", \"backyard\", \"bag\", \"ball\", \"bank\", \"bar\", \"basket\", \"basketball\", \"basketball_legacy\", \"battery\", \"be\", \"bedroom\", \"begin\", \"bike\", \"bldg\", \"bottle\", \"box\", \"break\", \"brick\", \"broke\", \"building\", \"bus\", \"business\", \"call\", \"campus\", \"car\", \"card\", \"care\", \"case\", \"cash\", \"cause\", \"cellphone\", \"check\", \"child\", \"class\", \"classroom\", \"clean\", \"closet\", \"come\", \"complex\", \"conceal\", \"confront\", \"container\", \"cord\", \"crank\", \"credit\", \"crome\", \"custody\", \"cut\", \"cutter\", \"damage\", \"date\", \"demand\", \"device\", \"dir\", \"direction\", \"disagreement\", \"discover\", \"dispute\", \"dog\", \"door\", \"drawer\", \"drinkg\", \"drive\", \"driver\", \"due\", \"elm\", \"elm\", \"email\", \"employee\", \"end\", \"engage\", \"ent\", \"enter\", \"entry\", \"exit\", \"exited\", \"face\", \"facility\", \"fail\", \"family\", \"fear\", \"fight\", \"file\", \"fire\", \"fist\", \"flee\", \"follow\", \"force\", \"forge\", \"front\", \"gain\", \"gain_entry\", \"garage\", \"gas\", \"get\", \"girlfriend\", \"give\", \"glass\", \"go\", \"golf\", \"grab\", \"gun\", \"hard_obj\", \"head\", \"hit\", \"hold\", \"home\", \"hood\", \"hoover\", \"hotel\", \"hour\", \"housing\", \"informant\", \"injury\", \"inovle\", \"intentionally\", \"intervene\", \"ipad\", \"issue\", \"item\", \"jar\", \"jump\", \"kick\", \"knfie\", \"knife\", \"know\", \"landlord\", \"laptop\", \"large\", \"later\", \"leave\", \"letter\", \"list\", \"live\", \"location\", \"lock\", \"locker\", \"look\", \"lot\", \"machine\", \"mail\", \"mailbox\", \"make\", \"mansion\", \"mean\", \"member\", \"merchandise\", \"metal\", \"middle\", \"miss\", \"money\", \"mother\", \"multiple\", \"next\", \"night\", \"number\", \"numerous\", \"obs\", \"obsd\", \"observe\", \"obtain\", \"ofcr\", \"office\", \"open\", \"order\", \"owner\", \"park\", \"partner\", \"pass\", \"passenger\", \"pay\", \"people\", \"person\", \"personal\", \"phone\", \"pick\", \"place\", \"pocket\", \"poe\", \"point\", \"pole\", \"police\", \"porch\", \"position\", \"possession\", \"power\", \"proceed\", \"proceeding\", \"process\", \"produce\", \"property\", \"pry\", \"psngr\", \"pull\", \"punch\", \"punched\", \"purchase\", \"purse\", \"push\", \"ransack\", \"re\", \"realtionship\", \"rear\", \"reason\", \"receive\", \"refuse\", \"reg\", \"regard\", \"register\", \"registrant\", \"relationship\", \"rem\", \"remove\", \"rent\", \"request\", \"resid\", \"residence\", \"resist\", \"result\", \"return\", \"rife_michoacan\", \"rmv\", \"rock\", \"room\", \"roommate\", \"round\", \"row\", \"run\", \"say\", \"school\", \"scooter\", \"scratch\", \"seat\", \"secure\", \"see\", \"select\", \"send\", \"sentere\", \"service\", \"several\", \"shoot\", \"shoreline\", \"shot\", \"side\", \"sign\", \"slide\", \"smash\", \"soccer\", \"space\", \"speed\", \"spray\", \"stab\", \"state\", \"station\", \"steal\", \"stick\", \"stop\", \"storage\", \"store\", \"street\", \"strike\", \"student\", \"suspect\", \"suspect\", \"table\", \"take\", \"tax\", \"tell\", \"tenant\", \"theft\", \"threaten\", \"throw\", \"ticket\", \"time\", \"today\", \"together\", \"tool\", \"top\", \"traffic\", \"transaction\", \"trespass\", \"truck\", \"tv\", \"type\", \"unit\", \"unknown\", \"unlock\", \"use\", \"vandalize\", \"various\", \"vehicle\", \"verbal\", \"vict\", \"victim\", \"violation\", \"wait\", \"walk\", \"wall\", \"warn\", \"way\", \"window\", \"wire\", \"wit\", \"without_paye\", \"wndw\", \"wo\", \"work\", \"would\", \"write\", \"yard\", \"yell\"]}, \"R\": 30, \"lambda.step\": 0.01, \"plot.opts\": {\"xlab\": \"PC1\", \"ylab\": \"PC2\"}, \"topic.order\": [2, 6, 10, 11, 4, 3, 1, 12, 9, 5, 8, 7]};\n",
       "\n",
       "function LDAvis_load_lib(url, callback){\n",
       "  var s = document.createElement('script');\n",
       "  s.src = url;\n",
       "  s.async = true;\n",
       "  s.onreadystatechange = s.onload = callback;\n",
       "  s.onerror = function(){console.warn(\"failed to load library \" + url);};\n",
       "  document.getElementsByTagName(\"head\")[0].appendChild(s);\n",
       "}\n",
       "\n",
       "if(typeof(LDAvis) !== \"undefined\"){\n",
       "   // already loaded: just create the visualization\n",
       "   !function(LDAvis){\n",
       "       new LDAvis(\"#\" + \"ldavis_el23622521650822328304914380\", ldavis_el23622521650822328304914380_data);\n",
       "   }(LDAvis);\n",
       "}else if(typeof define === \"function\" && define.amd){\n",
       "   // require.js is available: use it to load d3/LDAvis\n",
       "   require.config({paths: {d3: \"https://cdnjs.cloudflare.com/ajax/libs/d3/3.5.5/d3.min\"}});\n",
       "   require([\"d3\"], function(d3){\n",
       "      window.d3 = d3;\n",
       "      LDAvis_load_lib(\"https://cdn.rawgit.com/bmabey/pyLDAvis/files/ldavis.v1.0.0.js\", function(){\n",
       "        new LDAvis(\"#\" + \"ldavis_el23622521650822328304914380\", ldavis_el23622521650822328304914380_data);\n",
       "      });\n",
       "    });\n",
       "}else{\n",
       "    // require.js not available: dynamically load d3 & LDAvis\n",
       "    LDAvis_load_lib(\"https://cdnjs.cloudflare.com/ajax/libs/d3/3.5.5/d3.min.js\", function(){\n",
       "         LDAvis_load_lib(\"https://cdn.rawgit.com/bmabey/pyLDAvis/files/ldavis.v1.0.0.js\", function(){\n",
       "                 new LDAvis(\"#\" + \"ldavis_el23622521650822328304914380\", ldavis_el23622521650822328304914380_data);\n",
       "            })\n",
       "         });\n",
       "}\n",
       "</script>"
      ],
      "text/plain": [
       "PreparedData(topic_coordinates=              x         y  topics  cluster       Freq\n",
       "topic                                                \n",
       "1      0.360028  0.305326       1        1  35.298023\n",
       "5      0.311788 -0.341893       2        1  25.707249\n",
       "9     -0.000638  0.000777       3        1   6.695586\n",
       "10    -0.001883  0.000973       4        1   6.670199\n",
       "3     -0.012907  0.001693       5        1   6.440364\n",
       "2     -0.031626  0.002558       6        1   5.555149\n",
       "0     -0.080187  0.004620       7        1   3.434711\n",
       "11    -0.082917  0.004692       8        1   3.150754\n",
       "8     -0.095480  0.005032       9        1   2.706879\n",
       "4     -0.107051  0.005270      10        1   2.236018\n",
       "7     -0.127450  0.005482      11        1   1.299037\n",
       "6     -0.131678  0.005468      12        1   0.806028, topic_info=     Category          Freq            Term         Total  loglift  logprob\n",
       "19    Default  10250.000000          victim  10250.000000  30.0000  30.0000\n",
       "5     Default   9770.000000         suspect   9770.000000  29.0000  29.0000\n",
       "10    Default   2877.000000            flee   2877.000000  28.0000  28.0000\n",
       "156   Default   2476.000000        property   2476.000000  27.0000  27.0000\n",
       "24    Default   2516.000000             elm   2516.000000  26.0000  26.0000\n",
       "54    Default    988.000000            take    988.000000  25.0000  25.0000\n",
       "90    Default   1966.000000            door   1966.000000  24.0000  24.0000\n",
       "86    Default   1797.000000         unknown   1797.000000  23.0000  23.0000\n",
       "64    Default   1757.000000          remove   1757.000000  22.0000  22.0000\n",
       "185   Default    782.000000        location    782.000000  21.0000  21.0000\n",
       "29    Default    761.000000         vehicle    761.000000  20.0000  20.0000\n",
       "63    Default    622.000000            open    622.000000  19.0000  19.0000\n",
       "203   Default    388.000000          soccer    388.000000  18.0000  18.0000\n",
       "48    Default   1109.000000           enter   1109.000000  17.0000  17.0000\n",
       "271   Default    418.000000             use    418.000000  16.0000  16.0000\n",
       "116   Default    383.000000           anzac    383.000000  15.0000  15.0000\n",
       "170   Default    963.000000          window    963.000000  14.0000  14.0000\n",
       "455   Default    412.000000           front    412.000000  13.0000  13.0000\n",
       "214   Default    403.000000            room    403.000000  12.0000  12.0000\n",
       "110   Default   1086.000000           leave   1086.000000  11.0000  11.0000\n",
       "163   Default    372.000000           order    372.000000  10.0000  10.0000\n",
       "75    Default    341.000000            rear    341.000000   9.0000   9.0000\n",
       "3     Default    712.000000            item    712.000000   8.0000   8.0000\n",
       "220   Default    340.000000           phone    340.000000   7.0000   7.0000\n",
       "264   Default    266.000000          school    266.000000   6.0000   6.0000\n",
       "460   Default    197.000000            side    197.000000   5.0000   5.0000\n",
       "91    Default    320.000000           glass    320.000000   4.0000   4.0000\n",
       "188   Default    253.000000            area    253.000000   3.0000   3.0000\n",
       "458   Default    192.000000          driver    192.000000   2.0000   2.0000\n",
       "663   Default    220.000000           check    220.000000   1.0000   1.0000\n",
       "...       ...           ...             ...           ...      ...      ...\n",
       "520   Topic12     17.255825   intentionally     18.163847   4.7695  -3.8389\n",
       "908   Topic12     17.219406          engage     18.127378   4.7694  -3.8410\n",
       "823   Topic12     14.440704        trespass     15.348699   4.7598  -4.0170\n",
       "1769  Topic12     14.409811           today     15.317817   4.7597  -4.0191\n",
       "240   Topic12      6.178982            jump      7.086962   4.6837  -4.8659\n",
       "855   Topic12      4.032922       intervene      4.941415   4.6176  -5.2926\n",
       "3122  Topic12      3.611028             end      4.518999   4.5965  -5.4031\n",
       "1922  Topic12      2.661729           speed      3.569692   4.5273  -5.7081\n",
       "905   Topic12      2.147533           broke      3.055599   4.4682  -5.9227\n",
       "522   Topic12      0.052218           upper      0.960179   1.9091  -9.6394\n",
       "8712  Topic12      0.047320        manchine      0.964450   1.8062  -9.7379\n",
       "8713  Topic12      0.047320          thejaw      0.964450   1.8062  -9.7379\n",
       "8714  Topic12      0.047320          tokick      0.964450   1.8062  -9.7379\n",
       "6174  Topic12      0.047320          litter      0.964756   1.8059  -9.7379\n",
       "2937  Topic12      0.048366           valid      0.987906   1.8040  -9.7160\n",
       "341   Topic12      0.048367     spraypainte      0.988669   1.8033  -9.7160\n",
       "9240  Topic12      0.048092         usedher      0.985355   1.8009  -9.7217\n",
       "9239  Topic12      0.048092        redirect      0.985355   1.8009  -9.7217\n",
       "9238  Topic12      0.048092  gainemployment      0.985355   1.8009  -9.7217\n",
       "3019  Topic12      0.048092         gunning      0.985366   1.8009  -9.7217\n",
       "5167  Topic12      0.048092          hickie      0.985448   1.8008  -9.7217\n",
       "126   Topic12      0.047070             din      0.964585   1.8007  -9.7432\n",
       "7259  Topic12      0.048095        patience      0.986672   1.7996  -9.7216\n",
       "4148  Topic12      0.047334      protective      0.971852   1.7988  -9.7376\n",
       "9247  Topic12      0.047918      delibertly      0.984634   1.7980  -9.7253\n",
       "9186  Topic12      0.047494          utiize      0.976309   1.7976  -9.7342\n",
       "3510  Topic12      0.048103           favor      0.995867   1.7905  -9.7215\n",
       "6747  Topic12      0.048111          blanca      0.997719   1.7889  -9.7213\n",
       "1237  Topic12      0.047894           admit      1.037783   1.7450  -9.7258\n",
       "3062  Topic12      0.049262            raul      1.340223   1.5174  -9.6977\n",
       "\n",
       "[408 rows x 6 columns], token_table=      Topic      Freq               Term\n",
       "term                                    \n",
       "34        5  0.995236            account\n",
       "674       6  0.995484               acct\n",
       "1423     10  0.980710                adv\n",
       "424       5  0.983210             advise\n",
       "4511      7  0.956721          affiliate\n",
       "518      12  0.985172        altercation\n",
       "721      10  0.958468             amount\n",
       "116       7  0.998634              anzac\n",
       "318       1  0.995542          apartment\n",
       "245       1  0.998899           approach\n",
       "225       4  0.984807         approached\n",
       "295       7  0.980648             approx\n",
       "188       7  0.994916               area\n",
       "393       8  0.991197              argue\n",
       "71        2  0.995881           argument\n",
       "546       4  0.995035             arrest\n",
       "3884     10  0.819360                art\n",
       "109       1  0.996980                ask\n",
       "96        4  0.996171             attack\n",
       "66        5  0.997722            attempt\n",
       "30        2  0.996011               away\n",
       "482       5  0.987175               back\n",
       "273       9  0.975239           backyard\n",
       "310       3  0.997284                bag\n",
       "292       5  0.992878               ball\n",
       "337       6  0.985074               bank\n",
       "123       9  0.978384                bar\n",
       "102       4  0.984809             basket\n",
       "120       3  0.991511         basketball\n",
       "114      10  0.925189  basketball_legacy\n",
       "...     ...       ...                ...\n",
       "244       3  0.987248              truck\n",
       "317      10  0.988937                 tv\n",
       "630       9  0.934911               type\n",
       "277       9  0.992955               unit\n",
       "86        2  0.999715            unknown\n",
       "362       6  0.987667             unlock\n",
       "271       8  0.997317                use\n",
       "1344      6  0.980485          vandalize\n",
       "1094      7  0.956960            various\n",
       "29        6  0.998999            vehicle\n",
       "197       1  0.998074             verbal\n",
       "18        7  0.984795               vict\n",
       "19        1  0.999963             victim\n",
       "142       2  0.998402          violation\n",
       "1452     10  0.986690               wait\n",
       "193       1  0.997986               walk\n",
       "342      12  0.973556               wall\n",
       "1147      5  0.978283               warn\n",
       "706       6  0.985400                way\n",
       "170       2  0.999293             window\n",
       "2087      6  0.979709               wire\n",
       "667      10  0.996322                wit\n",
       "2953      7  0.976487       without_paye\n",
       "80        2  0.989962               wndw\n",
       "638      11  0.940328                 wo\n",
       "596       3  0.994478               work\n",
       "222       3  0.989426              would\n",
       "797       8  0.967061              write\n",
       "569       4  0.982026               yard\n",
       "20        7  0.989248               yell\n",
       "\n",
       "[333 rows x 3 columns], R=30, lambda_step=0.01, plot_opts={'xlab': 'PC1', 'ylab': 'PC2'}, topic_order=[2, 6, 10, 11, 4, 3, 1, 12, 9, 5, 8, 7])"
      ]
     },
     "execution_count": 22,
     "metadata": {},
     "output_type": "execute_result"
    }
   ],
   "source": [
    "# Visualize the topics\n",
    "pyLDAvis.enable_notebook()\n",
    "vis = pyLDAvis.gensim.prepare(lda_model, corpus, id2word)\n",
    "vis"
   ]
  },
  {
   "cell_type": "raw",
   "metadata": {},
   "source": [
    "Each bubble on the left-hand side plot represents a topic. The larger the bubble, the more prevalent is that topic.\n",
    "A good topic model will have fairly big, non-overlapping bubbles scattered throughout the chart instead of being clustered in one quadrant.\n",
    "A model with too many topics, will typically have many overlaps, small sized bubbles clustered in one region of the chart.\n",
    "Alright, if you move the cursor over one of the bubbles, the words and bars on the right-hand side will update. These words are the salient keywords that form the selected topic."
   ]
  },
  {
   "cell_type": "code",
   "execution_count": 23,
   "metadata": {},
   "outputs": [],
   "source": [
    "\n",
    "# Download File: http://mallet.cs.umass.edu/dist/mallet-2.0.8.zip\n",
    "\n",
    "#mallet_path = 'F:\\\\mallet-2.0.8\\\\bin\\\\mallet'\n",
    "mallet_path = \"F:\\\\mallet-2.0.8\\\\bin\\\\mallet\"\n",
    "ldamallet = gensim.models.wrappers.LdaMallet(mallet_path, corpus=corpus, num_topics=12, id2word=id2word)"
   ]
  },
  {
   "cell_type": "code",
   "execution_count": 24,
   "metadata": {},
   "outputs": [
    {
     "name": "stdout",
     "output_type": "stream",
     "text": [
      "[(0,\n",
      "  [('suspect', 0.18433704453441296),\n",
      "   ('leave', 0.11576417004048584),\n",
      "   ('item', 0.06427125506072874),\n",
      "   ('store', 0.04200404858299595),\n",
      "   ('location', 0.03909412955465587),\n",
      "   ('attempt', 0.03833502024291498),\n",
      "   ('bag', 0.028972672064777327),\n",
      "   ('place', 0.02618927125506073),\n",
      "   ('register', 0.02543016194331984),\n",
      "   ('walk', 0.023785425101214574)]),\n",
      " (1,\n",
      "  [('elm', 0.15793538421933326),\n",
      "   ('suspect', 0.07388338267473292),\n",
      "   ('room', 0.03912987514480628),\n",
      "   ('school', 0.0382288582829193),\n",
      "   ('date', 0.03462479083537135),\n",
      "   ('area', 0.03269404041704209),\n",
      "   ('top', 0.03192174024971039),\n",
      "   ('complex', 0.0214956879907324),\n",
      "   ('residence', 0.016604453597631613),\n",
      "   ('apartment', 0.015703436735744626)]),\n",
      " (2,\n",
      "  [('suspect', 0.1934060228452752),\n",
      "   ('victim', 0.1043613707165109),\n",
      "   ('dispute', 0.04036863966770509),\n",
      "   ('strike', 0.03050363447559709),\n",
      "   ('business', 0.02699896157840083),\n",
      "   ('violation', 0.0264797507788162),\n",
      "   ('verbal', 0.02518172377985462),\n",
      "   ('elm', 0.022975077881619937),\n",
      "   ('street', 0.020898234683281412),\n",
      "   ('fight', 0.01973001038421599)]),\n",
      " (3,\n",
      "  [('victim', 0.2675521821631879),\n",
      "   ('suspect', 0.16040480708412397),\n",
      "   ('state', 0.0786843769765971),\n",
      "   ('approach', 0.06641366223908918),\n",
      "   ('fear', 0.03896268184693232),\n",
      "   ('money', 0.030740037950664136),\n",
      "   ('give', 0.025047438330170778),\n",
      "   ('knife', 0.014168247944339026),\n",
      "   ('wit', 0.010120177103099304),\n",
      "   ('stab', 0.00961416824794434)]),\n",
      " (4,\n",
      "  [('victim', 0.32139352306182534),\n",
      "   ('punch', 0.0693081452404318),\n",
      "   ('suspect', 0.054833169774288516),\n",
      "   ('hit', 0.04845436702649657),\n",
      "   ('time', 0.039131501472031406),\n",
      "   ('threaten', 0.023307163886162906),\n",
      "   ('face', 0.020731108930323847),\n",
      "   ('argument', 0.019995093228655544),\n",
      "   ('begin', 0.01925907752698724),\n",
      "   ('demand', 0.016437684003925417)]),\n",
      " (5,\n",
      "  [('door', 0.14261041204046385),\n",
      "   ('property', 0.12213175425610659),\n",
      "   ('remove', 0.11312607944732297),\n",
      "   ('open', 0.07142857142857142),\n",
      "   ('rear', 0.0461386627189736),\n",
      "   ('front', 0.038366641993585),\n",
      "   ('driver', 0.034295583518381446),\n",
      "   ('smash', 0.02689365901801135),\n",
      "   ('pass', 0.026523562792992846),\n",
      "   ('gain', 0.019615099925980754)]),\n",
      " (6,\n",
      "  [('flee', 0.22927972372964972),\n",
      "   ('unknown', 0.2162062160828811),\n",
      "   ('property', 0.11531820424272324),\n",
      "   ('remove', 0.07659102121361618),\n",
      "   ('location', 0.06684755796743956),\n",
      "   ('dir', 0.024296990626541688),\n",
      "   ('tool', 0.02343364578194376),\n",
      "   ('direction', 0.020720276270350273),\n",
      "   ('drawer', 0.005796743956586088),\n",
      "   ('unit', 0.0053034040453872715)]),\n",
      " (7,\n",
      "  [('window', 0.11810536730150878),\n",
      "   ('enter', 0.10635666584219639),\n",
      "   ('door', 0.0770467474647539),\n",
      "   ('garage', 0.058496166213208016),\n",
      "   ('side', 0.034875092752906255),\n",
      "   ('glass', 0.032401681919366807),\n",
      "   ('resid', 0.02968093000247341),\n",
      "   ('property', 0.025352461043779372),\n",
      "   ('cut', 0.02188968587682414),\n",
      "   ('break', 0.021271333168439276)]),\n",
      " (8,\n",
      "  [('victim', 0.29601736022466174),\n",
      "   ('suspect', 0.1714322185345928),\n",
      "   ('call', 0.03561399029869798),\n",
      "   ('phone', 0.03484809803420985),\n",
      "   ('push', 0.02565739086035231),\n",
      "   ('grab', 0.022849119223895837),\n",
      "   ('police', 0.013913709471534337),\n",
      "   ('multiple', 0.013786060760786317),\n",
      "   ('attack', 0.00970130201684963),\n",
      "   ('hand', 0.009573653306101609)]),\n",
      " (9,\n",
      "  [('suspect', 0.17512657406205376),\n",
      "   ('exit', 0.03816694794236012),\n",
      "   ('order', 0.03751785018823835),\n",
      "   ('refuse', 0.028300662079709205),\n",
      "   ('victim', 0.026742827469816953),\n",
      "   ('stop', 0.026613007918992602),\n",
      "   ('check', 0.026613007918992602),\n",
      "   ('arrest', 0.0203816694794236),\n",
      "   ('send', 0.018044917564585226),\n",
      "   ('cash', 0.017395819810463457)]),\n",
      " (10,\n",
      "  [('victim', 0.1236980840941237),\n",
      "   ('vehicle', 0.10081008100810081),\n",
      "   ('flee', 0.09553812524109553),\n",
      "   ('suspect', 0.09155201234409155),\n",
      "   ('anzac', 0.05181946766105182),\n",
      "   ('car', 0.032403240324032405),\n",
      "   ('throw', 0.020444901633020447),\n",
      "   ('shot', 0.017616047319017617),\n",
      "   ('drive', 0.017487463032017488),\n",
      "   ('observe', 0.016073035875016073)]),\n",
      " (11,\n",
      "  [('elm', 0.09768703966920791),\n",
      "   ('soccer', 0.07171469182064866),\n",
      "   ('return', 0.048714304173665846),\n",
      "   ('pay', 0.029590386354826206),\n",
      "   ('purchase', 0.028944308050135675),\n",
      "   ('business', 0.02881509238919757),\n",
      "   ('card', 0.02881509238919757),\n",
      "   ('person', 0.02196666235947797),\n",
      "   ('make', 0.02132058405478744),\n",
      "   ('account', 0.016668820261015634)])]\n"
     ]
    }
   ],
   "source": [
    "# Show Topics\n",
    "pprint(ldamallet.show_topics(num_topics=12, formatted=False))"
   ]
  },
  {
   "cell_type": "code",
   "execution_count": 25,
   "metadata": {},
   "outputs": [
    {
     "name": "stdout",
     "output_type": "stream",
     "text": [
      "\n",
      "Coherence Score:  0.37153656728004486\n"
     ]
    }
   ],
   "source": [
    "# Compute Coherence Score\n",
    "coherence_model_ldamallet = CoherenceModel(model=ldamallet, texts=data_lemmatized, dictionary=id2word, coherence='c_v')\n",
    "coherence_ldamallet = coherence_model_ldamallet.get_coherence()\n",
    "print('\\nCoherence Score: ', coherence_ldamallet)\n",
    "# Compute Perplexity\n",
    "#print('\\nPerplexity: ', ldamallet.log_perplexity(corpus))  # a measure of how good the model is. lower the better.\n"
   ]
  },
  {
   "cell_type": "code",
   "execution_count": 26,
   "metadata": {},
   "outputs": [],
   "source": [
    "def compute_coherence_values(dictionary, corpus, texts, limit, start=2, step=3):\n",
    "    \"\"\"\n",
    "    Compute c_v coherence for various number of topics\n",
    "\n",
    "    Parameters:\n",
    "    ----------\n",
    "    dictionary : Gensim dictionary\n",
    "    corpus : Gensim corpus\n",
    "    texts : List of input texts\n",
    "    limit : Max num of topics\n",
    "\n",
    "    Returns:\n",
    "    -------\n",
    "    model_list : List of LDA topic models\n",
    "    coherence_values : Coherence values corresponding to the LDA model with respective number of topics\n",
    "    \"\"\"\n",
    "    coherence_values = []\n",
    "    model_list = []\n",
    "    for num_topics in range(start, limit, step):\n",
    "        model = gensim.models.wrappers.LdaMallet(mallet_path, corpus=corpus, num_topics=num_topics, id2word=id2word)\n",
    "        model_list.append(model)\n",
    "        coherencemodel = CoherenceModel(model=model, texts=texts, dictionary=dictionary, coherence='c_v')\n",
    "        coherence_values.append(coherencemodel.get_coherence())\n",
    "\n",
    "    return model_list, coherence_values"
   ]
  },
  {
   "cell_type": "code",
   "execution_count": null,
   "metadata": {},
   "outputs": [],
   "source": [
    "# Can take a long time to run.\n",
    "model_list, coherence_values = compute_coherence_values(dictionary=id2word, corpus=corpus, texts=data_lemmatized, start=2, limit=40, step=6)"
   ]
  },
  {
   "cell_type": "code",
   "execution_count": null,
   "metadata": {},
   "outputs": [],
   "source": [
    "# Show graph\n",
    "limit=40; start=2; step=6;\n",
    "x = range(start, limit, step)\n",
    "plt.plot(x, coherence_values)\n",
    "plt.xlabel(\"Num Topics\")\n",
    "plt.ylabel(\"Coherence score\")\n",
    "plt.legend((\"coherence_values\"), loc='best')\n",
    "plt.show()\n",
    "\n"
   ]
  },
  {
   "cell_type": "code",
   "execution_count": null,
   "metadata": {},
   "outputs": [],
   "source": [
    "# Print the coherence scores\n",
    "for m, cv in zip(x, coherence_values):\n",
    "    print(\"Num Topics =\", m, \" has Coherence Value of\", round(cv, 4))"
   ]
  },
  {
   "cell_type": "markdown",
   "metadata": {},
   "source": [
    "If the coherence score seems to keep increasing, it may make better sense to pick the model that gave the highest CV before flattening out. This is exactly the case here.\n",
    "\n",
    "So for further steps I will choose the model with 12 topics itself.\n"
   ]
  },
  {
   "cell_type": "code",
   "execution_count": null,
   "metadata": {},
   "outputs": [],
   "source": [
    "# Select the model and print the topics\n",
    "optimal_model = model_list[2]\n",
    "model_topics = optimal_model.show_topics(formatted=False)\n",
    "pprint(optimal_model.print_topics(num_words=10))"
   ]
  },
  {
   "cell_type": "code",
   "execution_count": null,
   "metadata": {},
   "outputs": [],
   "source": [
    "model = gensim.models.wrappers.ldamallet.malletmodel2ldamodel(ldamallet)\n",
    "# Visualize the topics\n",
    "pyLDAvis.enable_notebook()\n",
    "vis = pyLDAvis.gensim.prepare(model, corpus, id2word)\n",
    "vis"
   ]
  },
  {
   "cell_type": "code",
   "execution_count": null,
   "metadata": {},
   "outputs": [],
   "source": [
    "# Compute Perplexity\n",
    "print('\\nPerplexity: ', model.log_perplexity(corpus))  # a measure of how good the model is. lower the better.\n"
   ]
  },
  {
   "cell_type": "markdown",
   "metadata": {},
   "source": [
    "## Finding the dominant topic in each sentence"
   ]
  },
  {
   "cell_type": "markdown",
   "metadata": {},
   "source": [
    "One of the practical application of topic modeling is to determine what topic a given document is about.\n",
    "\n",
    "To find that, we find the topic number that has the highest percentage contribution in that document.\n",
    "\n",
    "The format_topics_sentences() function below nicely aggregates this information in a presentable table."
   ]
  },
  {
   "cell_type": "code",
   "execution_count": null,
   "metadata": {},
   "outputs": [],
   "source": [
    "def format_two_topics_sentences(ldamodel=lda_model, corpus=corpus, texts=data):\n",
    "    # Init output\n",
    "    sent_topics_df = pd.DataFrame()\n",
    "\n",
    "    # Get main topic in each document\n",
    "    for i, row in enumerate(ldamodel[corpus]):\n",
    "        row = sorted(row, key=lambda x: (x[1]), reverse=True)\n",
    "        # Get the Dominant topic, Perc Contribution and Keywords for each document\n",
    "        for j, (topic_num, prop_topic) in enumerate(row):\n",
    "            if j == 0:  # => dominant topic\n",
    "                topic_num0 = topic_num\n",
    "                prop_topic0 = prop_topic\n",
    "                wp0 = ldamodel.show_topic(topic_num0)\n",
    "                topic_keywords0 = \", \".join([word for word, prop in wp0])\n",
    "            elif j == 1:  # => dominant topic\n",
    "                topic_num1 = topic_num\n",
    "                prop_topic1 = prop_topic\n",
    "                wp1 = ldamodel.show_topic(topic_num1)\n",
    "                topic_keywords1 = \", \".join([word for word, prop in wp1])\n",
    "            else:\n",
    "                break\n",
    "        sent_topics_df = sent_topics_df.append(pd.Series([int(topic_num0), round(prop_topic0,4), topic_keywords0,int(topic_num1), round(prop_topic1,4), topic_keywords1]), ignore_index=True)\n",
    "    sent_topics_df.columns = ['Dominant_Topic0', 'Perc_Contribution0', 'Topic_Keywords0', 'Dominant_Topic1', 'Perc_Contribution1', 'Topic_Keywords1']\n",
    "\n",
    "    # Add original text to the end of the output\n",
    "    contents = pd.Series(texts)\n",
    "    sent_topics_df = pd.concat([sent_topics_df, contents], axis=1)\n",
    "    return(sent_topics_df)\n",
    "\n",
    "\n",
    "#df_two_topic_sents_keywords = format_two_topics_sentences(ldamodel=optimal_model, corpus=corpus, texts=data)\n",
    "df_two_topic_sents_keywords = format_two_topics_sentences(ldamodel=ldamallet, corpus=corpus, texts=data)\n",
    "\n",
    "# Format\n",
    "df_two_dominant_topic = df_two_topic_sents_keywords.reset_index()\n",
    "df_two_dominant_topic.columns = ['Document_No', 'Dominant_Topic0', 'Topic_Perc_Contrib0', 'Keywords0', 'Dominant_Topic1', 'Topic_Perc_Contrib1', 'Keywords1', 'Text']\n",
    "\n",
    "# Show\n",
    "df_two_dominant_topic.head(10)"
   ]
  },
  {
   "cell_type": "code",
   "execution_count": null,
   "metadata": {},
   "outputs": [],
   "source": [
    "def format_topics_sentences(ldamodel=lda_model, corpus=corpus, texts=data):\n",
    "    # Init output\n",
    "    sent_topics_df = pd.DataFrame()\n",
    "\n",
    "    # Get main topic in each document\n",
    "    for i, row in enumerate(ldamodel[corpus]):\n",
    "        row = sorted(row, key=lambda x: (x[1]), reverse=True)\n",
    "        # Get the Dominant topic, Perc Contribution and Keywords for each document\n",
    "        for j, (topic_num, prop_topic) in enumerate(row):\n",
    "            if j == 0:  # => dominant topic\n",
    "                wp = ldamodel.show_topic(topic_num)\n",
    "                topic_keywords = \", \".join([word for word, prop in wp])\n",
    "                sent_topics_df = sent_topics_df.append(pd.Series([int(topic_num), round(prop_topic,4), topic_keywords]), ignore_index=True)\n",
    "            else:\n",
    "                break\n",
    "    sent_topics_df.columns = ['Dominant_Topic', 'Perc_Contribution', 'Topic_Keywords']\n",
    "\n",
    "    # Add original text to the end of the output\n",
    "    contents = pd.Series(texts)\n",
    "    sent_topics_df = pd.concat([sent_topics_df, contents], axis=1)\n",
    "    return(sent_topics_df)\n",
    "\n",
    "\n",
    "#df_topic_sents_keywords = format_topics_sentences(ldamodel=optimal_model, corpus=corpus, texts=data)\n",
    "df_topic_sents_keywords = format_topics_sentences(ldamodel=ldamallet, corpus=corpus, texts=data)\n",
    "\n",
    "# Format\n",
    "df_dominant_topic = df_topic_sents_keywords.reset_index()\n",
    "df_dominant_topic.columns = ['Document_No', 'Dominant_Topic', 'Topic_Perc_Contrib', 'Keywords', 'Text']\n",
    "\n",
    "# Show\n",
    "df_dominant_topic.head(10)"
   ]
  },
  {
   "cell_type": "markdown",
   "metadata": {},
   "source": [
    "## Find the most representative document for each topic"
   ]
  },
  {
   "cell_type": "markdown",
   "metadata": {},
   "source": [
    "Sometimes just the topic keywords may not be enough to make sense of what a topic is about. So, to help with understanding the topic, you can find the documents a given topic has contributed to the most and infer the topic by reading that document. "
   ]
  },
  {
   "cell_type": "code",
   "execution_count": null,
   "metadata": {},
   "outputs": [],
   "source": [
    "# Group top 5 sentences under each topic\n",
    "sent_topics_sorteddf_mallet = pd.DataFrame()\n",
    "\n",
    "sent_topics_outdf_grpd = df_topic_sents_keywords.groupby('Dominant_Topic')\n",
    "\n",
    "for i, grp in sent_topics_outdf_grpd:\n",
    "    sent_topics_sorteddf_mallet = pd.concat([sent_topics_sorteddf_mallet, \n",
    "                                             grp.sort_values(['Perc_Contribution'], ascending=[0]).head(1)], \n",
    "                                            axis=0)\n",
    "\n",
    "# Reset Index    \n",
    "sent_topics_sorteddf_mallet.reset_index(drop=True, inplace=True)\n",
    "\n",
    "# Format\n",
    "sent_topics_sorteddf_mallet.columns = ['Topic_Num', \"Topic_Perc_Contrib\", \"Keywords\", \"Text\"]\n",
    "\n",
    "# Show\n",
    "sent_topics_sorteddf_mallet.head()"
   ]
  },
  {
   "cell_type": "code",
   "execution_count": null,
   "metadata": {},
   "outputs": [],
   "source": [
    "sent_two_topics_sorteddf_mallet = pd.DataFrame()\n",
    "\n",
    "sent_two_topics_outdf_grpd = df_two_topic_sents_keywords.groupby('Dominant_Topic0')\n",
    "\n",
    "for i, grp in sent_two_topics_outdf_grpd:\n",
    "    sent_two_topics_sorteddf_mallet = pd.concat([sent_two_topics_sorteddf_mallet, \n",
    "                                             grp.sort_values(['Perc_Contribution0'], ascending=[0]).head(1)], \n",
    "                                            axis=0)\n",
    "\n",
    "# Reset Index    \n",
    "sent_two_topics_sorteddf_mallet.reset_index(drop=True, inplace=True)\n",
    "\n",
    "# Format\n",
    "#sent_two_topics_sorteddf_mallet.columns = ['Topic_Num', \"Topic_Perc_Contrib\", \"Keywords\", \"Text\"]\n",
    "\n",
    "# Show\n",
    "sent_two_topics_sorteddf_mallet.head()"
   ]
  },
  {
   "cell_type": "markdown",
   "metadata": {},
   "source": [
    "## Topic distribution across documents"
   ]
  },
  {
   "cell_type": "markdown",
   "metadata": {},
   "source": [
    "Finally, we want to understand the volume and distribution of topics in order to judge how widely it was discussed. The below table exposes that information."
   ]
  },
  {
   "cell_type": "code",
   "execution_count": null,
   "metadata": {},
   "outputs": [],
   "source": [
    "# Number of Documents for Each Topic\n",
    "topic_counts = df_topic_sents_keywords['Dominant_Topic'].value_counts()\n",
    "\n",
    "# Percentage of Documents for Each Topic\n",
    "topic_contribution = round(topic_counts/topic_counts.sum(), 4)\n",
    "\n",
    "# Topic Number and Keywords\n",
    "topic_num_keywords = df_topic_sents_keywords[['Dominant_Topic', 'Topic_Keywords']]\n",
    "\n",
    "# Concatenate Column wise\n",
    "df_dominant_topics = pd.concat([topic_num_keywords, topic_counts, topic_contribution], axis=1)\n",
    "\n",
    "# Change Column names\n",
    "df_dominant_topics.columns = ['Dominant_Topic', 'Topic_Keywords', 'Num_Documents', 'Perc_Documents']\n",
    "\n",
    "# Show\n",
    "df_dominant_topics"
   ]
  },
  {
   "cell_type": "code",
   "execution_count": null,
   "metadata": {},
   "outputs": [],
   "source": [
    "# Show\n",
    "df_dominant_topics.head(12)"
   ]
  },
  {
   "cell_type": "code",
   "execution_count": null,
   "metadata": {},
   "outputs": [],
   "source": [
    "df_dominant_topic.to_csv('df_dominant_topics_leakgan.csv')"
   ]
  }
 ],
 "metadata": {
  "kernelspec": {
   "display_name": "Python 3",
   "language": "python",
   "name": "python3"
  },
  "language_info": {
   "codemirror_mode": {
    "name": "ipython",
    "version": 3
   },
   "file_extension": ".py",
   "mimetype": "text/x-python",
   "name": "python",
   "nbconvert_exporter": "python",
   "pygments_lexer": "ipython3",
   "version": "3.7.3"
  }
 },
 "nbformat": 4,
 "nbformat_minor": 2
}
